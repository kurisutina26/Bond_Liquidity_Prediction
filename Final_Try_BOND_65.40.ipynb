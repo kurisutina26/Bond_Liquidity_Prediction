{
 "cells": [
  {
   "cell_type": "code",
   "execution_count": 1,
   "metadata": {
    "collapsed": false
   },
   "outputs": [],
   "source": [
    "import pandas as pd\n",
    "import numpy as np\n",
    "from datetime import datetime\n",
    "from sklearn.preprocessing import LabelEncoder\n",
    "import xgboost as xgb\n",
    "from sklearn import cross_validation"
   ]
  },
  {
   "cell_type": "code",
   "execution_count": 2,
   "metadata": {
    "collapsed": true
   },
   "outputs": [],
   "source": [
    "# Function to convert time into timestamp \n",
    "def convert_epoch(series):\n",
    "    #final_t = series.apply(lambda x: x.replace(x.split(\" \")[0], '').strip())\n",
    "    final_datetime = series.apply(lambda x: datetime.strptime(x, '%d%b%Y'))\n",
    "    final_datetime1 = final_datetime.apply(lambda x: x.timestamp())\n",
    "    return final_datetime1"
   ]
  },
  {
   "cell_type": "code",
   "execution_count": 3,
   "metadata": {
    "collapsed": true
   },
   "outputs": [],
   "source": [
    "# Function for time in meta data\n",
    "def convert_epoch_meta(series):\n",
    "    #final_datetime = series.apply(lambda x: datetime.strptime(x, '%d%b%Y'))\n",
    "    final_datetime1 = series.apply(lambda x: x.timestamp())\n",
    "    return final_datetime1"
   ]
  },
  {
   "cell_type": "code",
   "execution_count": 4,
   "metadata": {
    "collapsed": true
   },
   "outputs": [],
   "source": [
    "# Function to correct formats of date in meta data\n",
    "def try_parsing_date(text):\n",
    "    for fmt in ('%d%b%Y', '%d-%B%-y', '%d-%b-%y', '%d%B%Y'):\n",
    "        try:\n",
    "            return datetime.strptime(text, fmt)\n",
    "        except ValueError:\n",
    "            pass\n",
    "    raise ValueError('no valid date format found')"
   ]
  },
  {
   "cell_type": "code",
   "execution_count": 5,
   "metadata": {
    "collapsed": true
   },
   "outputs": [],
   "source": [
    "# Data Cleaning of part1 of train data \n",
    "def data_clean(data):\n",
    "    le=LabelEncoder()\n",
    "    data1 = data\n",
    "    data1[\"side\"] = le.fit_transform(data1[\"side\"])\n",
    "    data1[\"timeofday\"] = le.fit_transform(data1[\"timeofday\"])\n",
    "    data1[\"weekday\"] = data1[\"date\"].apply(lambda x: ep_to_day(x))\n",
    "    data1[\"weekday\"] = le.fit_transform(data1[\"weekday\"])\n",
    "    return data1"
   ]
  },
  {
   "cell_type": "code",
   "execution_count": 6,
   "metadata": {
    "collapsed": true
   },
   "outputs": [],
   "source": [
    "# Data Cleaning and preprocessing of meta data PART1\n",
    "def meta_data_clean1(data):\n",
    "    data1 = data\n",
    "    head_id = [\"ratingAgency1EffectiveDate\", \"ratingAgency2EffectiveDate\", \"maturity\"]\n",
    "    data1 = data1.drop(head_id, axis = 1)\n",
    "    return data1"
   ]
  },
  {
   "cell_type": "code",
   "execution_count": 7,
   "metadata": {
    "collapsed": false
   },
   "outputs": [],
   "source": [
    "# Data Cleaning and Preprocessing of meta data PART2\n",
    "def meta_data_clean2(data):\n",
    "    data1 = data.copy()\n",
    "    le=LabelEncoder()\n",
    "    new_head = list(data1.columns.values)\n",
    "    new_head.remove(\"amtIssued\")\n",
    "    new_head.remove(\"amtOutstanding\")\n",
    "    new_head.remove(\"coupon\")\n",
    "    new_head.remove(\"isin\")\n",
    "    new_head.remove(\"ratingAgency1Rating\")\n",
    "    new_head.remove(\"ratingAgency2Rating\")\n",
    "    new_head.remove(\"paymentRank\")\n",
    "    new_head.remove(\"issue date\")\n",
    "    new_head.remove(\"couponFrequency\")\n",
    "    data1[\"issue date\"] = data1[\"issue date\"].fillna(\"10March2016\")\n",
    "    #data1[\"issue date\"] = data1[\"issue date\"].apply(lambda x : (x.split(\"-\")[0]+x.split(\"-\")[1]+\"20\"+x.split(\"-\")[2])\n",
    "    #                                                if '-' in x else x)\n",
    "    #data1[\"issue date\"] = try_parsing_date(data1[\"issue date\"]).values\n",
    "    l = []\n",
    "    for x in data1[\"issue date\"]:\n",
    "        #print(x)\n",
    "        l.append(try_parsing_date(x))\n",
    "    data1 = data1.drop(\"issue date\", axis = 1)\n",
    "    data1[\"issue date\"] = l\n",
    "    data1[\"issue date\"] = convert_epoch_meta(data1[\"issue date\"]).values\n",
    "    \n",
    "    for x in new_head:\n",
    "        data1[x] = le.fit_transform(data1[x])\n",
    "    rate_head = [\"ratingAgency1Rating\", \"ratingAgency2Rating\"]\n",
    "    for x in rate_head:\n",
    "        data1[x] = data1[x].apply(lambda x: int(x.replace(\"rating\", '')))\n",
    "    data1[\"paymentRank\"] = data1[\"paymentRank\"].apply(lambda x: int(x.replace(\"paymentRank\", '')))\n",
    "    return data1\n",
    "    "
   ]
  },
  {
   "cell_type": "code",
   "execution_count": 8,
   "metadata": {
    "collapsed": true
   },
   "outputs": [],
   "source": [
    "# Function to convert timestamp to week day\n",
    "import time\n",
    "def ep_to_day(ep):\n",
    "    return time.strftime('%a', time.localtime(ep))"
   ]
  },
  {
   "cell_type": "code",
   "execution_count": 9,
   "metadata": {
    "collapsed": false
   },
   "outputs": [],
   "source": [
    "# XGBoost Model\n",
    "def run_xgboost(X, Y, Xt):    \n",
    "    dTrain = xgb.DMatrix(X,label=Y,missing=np.NAN)\n",
    "    dtest=xgb.DMatrix(Xt)\n",
    "    XT,XV,YT,YV = cross_validation.train_test_split(X,Y,test_size=0.15,random_state=50)\n",
    "    dtrain = xgb.DMatrix(XT,label=YT, missing=np.NAN)\n",
    "    dval = xgb.DMatrix(XV,label=YV, missing=np.NAN)\n",
    "    #param = {'eta': 0.05, 'max_depth': 8,'eval_metric': 'auc', 'objective': 'binary:logistic', 'silent': 1}\n",
    "\n",
    "    param={\n",
    "        'objective':\"reg:linear\",\n",
    "        'booster':\"gbtree\",\n",
    "        'eval_metric':\"rmse\",\n",
    "        'eta':0.1,\n",
    "        'max_depth':6,\n",
    "        #'colsample_bytree':0.7,\n",
    "        #'min_child_weight':1,\n",
    "        #'num_boost_round':20,\n",
    "        'silent': 1\n",
    "        }\n",
    "\n",
    "    evallist = [(dtrain,'dtrain'),(dval, 'eval')]\n",
    "    num_round = 200\n",
    "    bst = xgb.train(param, dTrain, num_round, evals=evallist)\n",
    "    ypred = bst.predict(dtest, ntree_limit=bst.best_ntree_limit)\n",
    "    ypred = pd.DataFrame(ypred)\n",
    "    return ypred"
   ]
  },
  {
   "cell_type": "markdown",
   "metadata": {},
   "source": [
    "## --------------------------------------------"
   ]
  },
  {
   "cell_type": "markdown",
   "metadata": {},
   "source": [
    "## Starting with the dataset"
   ]
  },
  {
   "cell_type": "code",
   "execution_count": 68,
   "metadata": {
    "collapsed": true
   },
   "outputs": [],
   "source": [
    "data = pd.read_csv(\"dataset.csv\")\n",
    "meta_data = pd.read_csv(\"ML_Bond_metadata.csv\")"
   ]
  },
  {
   "cell_type": "code",
   "execution_count": 69,
   "metadata": {
    "collapsed": false
   },
   "outputs": [
    {
     "data": {
      "text/html": [
       "<div>\n",
       "<table border=\"1\" class=\"dataframe\">\n",
       "  <thead>\n",
       "    <tr style=\"text-align: right;\">\n",
       "      <th></th>\n",
       "      <th>isin</th>\n",
       "      <th>time</th>\n",
       "      <th>price</th>\n",
       "      <th>side</th>\n",
       "      <th>volume</th>\n",
       "      <th>timeofday</th>\n",
       "      <th>date</th>\n",
       "    </tr>\n",
       "  </thead>\n",
       "  <tbody>\n",
       "    <tr>\n",
       "      <th>0</th>\n",
       "      <td>isin10033</td>\n",
       "      <td>Mon 16May16 02:51:27.000 pm</td>\n",
       "      <td>117.363618</td>\n",
       "      <td>S</td>\n",
       "      <td>730000</td>\n",
       "      <td>Afternoon</td>\n",
       "      <td>16May2016</td>\n",
       "    </tr>\n",
       "    <tr>\n",
       "      <th>1</th>\n",
       "      <td>isin10033</td>\n",
       "      <td>Mon 16May16 03:45:52.000 pm</td>\n",
       "      <td>115.715329</td>\n",
       "      <td>B</td>\n",
       "      <td>730000</td>\n",
       "      <td>Afternoon</td>\n",
       "      <td>16May2016</td>\n",
       "    </tr>\n",
       "    <tr>\n",
       "      <th>2</th>\n",
       "      <td>isin10033</td>\n",
       "      <td>Wed  6Apr16 08:24:07.000 am</td>\n",
       "      <td>115.296450</td>\n",
       "      <td>B</td>\n",
       "      <td>5000</td>\n",
       "      <td>Morning</td>\n",
       "      <td>6Apr2016</td>\n",
       "    </tr>\n",
       "    <tr>\n",
       "      <th>3</th>\n",
       "      <td>isin10033</td>\n",
       "      <td>Wed  6Apr16 08:24:07.000 am</td>\n",
       "      <td>115.296450</td>\n",
       "      <td>B</td>\n",
       "      <td>5000</td>\n",
       "      <td>Morning</td>\n",
       "      <td>6Apr2016</td>\n",
       "    </tr>\n",
       "    <tr>\n",
       "      <th>4</th>\n",
       "      <td>isin10033</td>\n",
       "      <td>Wed  6Apr16 08:25:00.000 am</td>\n",
       "      <td>115.558250</td>\n",
       "      <td>S</td>\n",
       "      <td>5000</td>\n",
       "      <td>Morning</td>\n",
       "      <td>6Apr2016</td>\n",
       "    </tr>\n",
       "  </tbody>\n",
       "</table>\n",
       "</div>"
      ],
      "text/plain": [
       "        isin                         time       price side  volume  timeofday  \\\n",
       "0  isin10033  Mon 16May16 02:51:27.000 pm  117.363618    S  730000  Afternoon   \n",
       "1  isin10033  Mon 16May16 03:45:52.000 pm  115.715329    B  730000  Afternoon   \n",
       "2  isin10033  Wed  6Apr16 08:24:07.000 am  115.296450    B    5000    Morning   \n",
       "3  isin10033  Wed  6Apr16 08:24:07.000 am  115.296450    B    5000    Morning   \n",
       "4  isin10033  Wed  6Apr16 08:25:00.000 am  115.558250    S    5000    Morning   \n",
       "\n",
       "        date  \n",
       "0  16May2016  \n",
       "1  16May2016  \n",
       "2   6Apr2016  \n",
       "3   6Apr2016  \n",
       "4   6Apr2016  "
      ]
     },
     "execution_count": 69,
     "metadata": {},
     "output_type": "execute_result"
    }
   ],
   "source": [
    "data.head()"
   ]
  },
  {
   "cell_type": "markdown",
   "metadata": {},
   "source": [
    "## **\n"
   ]
  },
  {
   "cell_type": "markdown",
   "metadata": {},
   "source": [
    "First, we have clean the given dataset\n",
    "Second, we have converted the given dataset to include the timeofday when on given dates trade are not done.\n",
    "This we have generated and stored in train_data_gen.csv. \n",
    "So, for this code, we already had the generated file and so we are just mentioning the function by which we generated.\n",
    "##### Making this train_data_gen (i.e., making data for the timeofday on given dates when no trade is done)"
   ]
  },
  {
   "cell_type": "code",
   "execution_count": 10,
   "metadata": {
    "collapsed": false
   },
   "outputs": [],
   "source": [
    "def generate_train_data_gen(data):\n",
    "    m_new=data.groupby([\"isin\",\"date\",\"side\",\"timeofday\"]).volume.sum().reset_index()\n",
    "    m_backup = m_new.copy()\n",
    "    m_new[\"date\"] = convert_epoch(m_new[\"date\"]).values\n",
    "    data_cl = data_clean(m_new)\n",
    "    print(data_cl.head())\n",
    "    tiger = list(data_cl.groupby([\"isin\",\"date\"]))\n",
    "    poss_combo = [(0,1), (0,0), (1,0), (1,1)]\n",
    "    len_tiger = len(tiger)\n",
    "\n",
    "    main_isin_list = []\n",
    "    print(\"start\")\n",
    "    for i in range(len_tiger):\n",
    "        if i%10000 == 0:\n",
    "            print(i)\n",
    "        side_l = list(tiger[i][1][\"side\"])\n",
    "        timeofday_l = list(tiger[i][1][\"timeofday\"])\n",
    "        combo_list = list(zip(side_l, timeofday_l))\n",
    "        new_side_l = []\n",
    "        new_timeofday_l = []\n",
    "        for combo in poss_combo:\n",
    "            if combo not in combo_list:\n",
    "                new_side_l.append(combo[0])\n",
    "                new_timeofday_l.append(combo[1])\n",
    "\n",
    "        len_this = len(new_side_l)\n",
    "        list_df = []\n",
    "        weekday_l = tiger[i][1][\"weekday\"].iloc[0]\n",
    "        if len_this!=0:\n",
    "            list_df.append(tiger[i][1])\n",
    "            tmp_df = pd.DataFrame(index = np.arange(len_this))    \n",
    "            tmp_df[\"isin\"] = tiger[i][0][0]\n",
    "            tmp_df[\"date\"] = tiger[i][0][1]\n",
    "            tmp_df[\"side\"] = new_side_l\n",
    "            tmp_df[\"timeofday\"] = new_timeofday_l\n",
    "            tmp_df[\"volume\"] = 0\n",
    "            #print(tiger[i][1][\"weekday\"])\n",
    "            tmp_df[\"weekday\"] = weekday_l\n",
    "            list_df.append(tmp_df)\n",
    "            main_kl = pd.concat(list_df)\n",
    "            main_isin_list.append(main_kl)\n",
    "            #print(main_kl)\n",
    "        else:\n",
    "            main_isin_list.append(tiger[i][1])\n",
    "\n",
    "\n",
    "    main_isin_df = pd.concat(main_isin_list)\n",
    "    print(main_isin_df.shape)\n",
    "    print(main_isin_df.head())\n",
    "    main_isin_df.to_csv(\"train_data_gen.csv\")\n",
    "    \n",
    "# Generating train_data_gen.csv\n",
    "# Here we have already generated files in our previous codes, so just putting the function here and the way to generate it\n",
    "generate_train_data_gen(data)"
   ]
  },
  {
   "cell_type": "code",
   "execution_count": 11,
   "metadata": {
    "collapsed": false
   },
   "outputs": [],
   "source": [
    "main_isin_df = pd.read_csv(\"train_data_gen.csv\")\n",
    "print(main_isin_df.shape)\n",
    "main_isin_df.head()"
   ]
  },
  {
   "cell_type": "code",
   "execution_count": 71,
   "metadata": {
    "collapsed": false
   },
   "outputs": [
    {
     "name": "stdout",
     "output_type": "stream",
     "text": [
      "(1786652, 7)\n"
     ]
    }
   ],
   "source": [
    "main_isin_df = pd.read_csv(\"train_data_gen.csv\")\n",
    "print(main_isin_df.shape)\n",
    "main_isin_df.head()\n",
    "\n",
    "main_isin_df = main_isin_df.drop(\"Unnamed: 0\", axis = 1)"
   ]
  },
  {
   "cell_type": "code",
   "execution_count": 72,
   "metadata": {
    "collapsed": true
   },
   "outputs": [],
   "source": [
    "main_isin_df_group = list(main_isin_df.groupby(\"isin\"))"
   ]
  },
  {
   "cell_type": "code",
   "execution_count": 73,
   "metadata": {
    "collapsed": false
   },
   "outputs": [],
   "source": [
    "#try_12 = main_isin_df_group[0][1].copy()\n",
    "#try_12.sort_values(by=['date', 'timeofday'], ascending=[True, False])"
   ]
  },
  {
   "cell_type": "markdown",
   "metadata": {},
   "source": [
    "## ********************"
   ]
  },
  {
   "cell_type": "markdown",
   "metadata": {},
   "source": [
    "Now, from the made train_data, we now added the dates which were not present.\n",
    "#### We included the days when no trade was done for a given bond. But assuring that on those days, one of the bond was traded. This improved the accuracy.\n",
    "#### This clearly shows that we have to take into account for each bond when they were not traded, as there is a high possibility for some bonds that they will not be traded on 10th, 13th and 14th June. "
   ]
  },
  {
   "cell_type": "code",
   "execution_count": 75,
   "metadata": {
    "collapsed": false
   },
   "outputs": [
    {
     "data": {
      "text/plain": [
       "'Thu'"
      ]
     },
     "execution_count": 75,
     "metadata": {},
     "output_type": "execute_result"
    }
   ],
   "source": [
    "mn = main_isin_df[\"date\"].max()\n",
    "ep_to_day(mn)\n",
    "#datetime.fromtimestamp(mn)"
   ]
  },
  {
   "cell_type": "code",
   "execution_count": 78,
   "metadata": {
    "collapsed": false
   },
   "outputs": [
    {
     "name": "stdout",
     "output_type": "stream",
     "text": [
      "61\n"
     ]
    }
   ],
   "source": [
    "print(main_isin_df[\"date\"].nunique())\n",
    "poss_dates = list(main_isin_df[\"date\"].unique())\n",
    "#print(poss_dates)"
   ]
  },
  {
   "cell_type": "code",
   "execution_count": 13,
   "metadata": {
    "collapsed": false
   },
   "outputs": [],
   "source": [
    "len_tiger = len(main_isin_df_group)\n",
    "main_isin_list = []\n",
    "print(\"start\")\n",
    "side_list = [0, 0, 1, 1]\n",
    "time_list = [0, 1, 0, 1]\n",
    "full_list_bond_df = []\n",
    "for i in range(len_tiger):\n",
    "    if i%10000 == 0:\n",
    "        print(i)\n",
    "    main_per_bondname = main_isin_df_group[i][0]\n",
    "    main_per_bond = main_isin_df_group[i][1]\n",
    "    weekday_l = main_per_bond[\"weekday\"].iloc[0]\n",
    "    date_list = list(main_per_bond[\"date\"].unique())\n",
    "    list_for_each_bond = []\n",
    "    list_for_each_bond.append(main_per_bond)\n",
    "    for x in poss_dates:\n",
    "        if x not in date_list:\n",
    "            tmp_df = pd.DataFrame(index = np.arange(4))\n",
    "            tmp_df[\"isin\"] = main_per_bondname\n",
    "            tmp_df[\"date\"] = x\n",
    "            tmp_df[\"side\"] = side_list\n",
    "            tmp_df[\"timeofday\"] = time_list\n",
    "            tmp_df[\"volume\"] = 0\n",
    "            tmp_df[\"weekday\"] = weekday_l\n",
    "            list_for_each_bond.append(tmp_df)\n",
    "    for_each_bond_df = pd.concat(list_for_each_bond)\n",
    "    full_list_bond_df.append(for_each_bond_df)\n",
    "\n"
   ]
  },
  {
   "cell_type": "code",
   "execution_count": 20,
   "metadata": {
    "collapsed": true
   },
   "outputs": [],
   "source": [
    "MAIN_df_now = pd.concat(full_list_bond_df)"
   ]
  },
  {
   "cell_type": "code",
   "execution_count": 21,
   "metadata": {
    "collapsed": true
   },
   "outputs": [],
   "source": [
    "MAIN_df_now.to_csv(\"MAIN_DF.csv\")"
   ]
  },
  {
   "cell_type": "code",
   "execution_count": 22,
   "metadata": {
    "collapsed": false
   },
   "outputs": [
    {
     "data": {
      "text/plain": [
       "(4211684, 6)"
      ]
     },
     "execution_count": 22,
     "metadata": {},
     "output_type": "execute_result"
    }
   ],
   "source": [
    "MAIN_df_now.shape"
   ]
  },
  {
   "cell_type": "code",
   "execution_count": 23,
   "metadata": {
    "collapsed": false
   },
   "outputs": [
    {
     "data": {
      "text/html": [
       "<div>\n",
       "<table border=\"1\" class=\"dataframe\">\n",
       "  <thead>\n",
       "    <tr style=\"text-align: right;\">\n",
       "      <th></th>\n",
       "      <th>isin</th>\n",
       "      <th>date</th>\n",
       "      <th>side</th>\n",
       "      <th>timeofday</th>\n",
       "      <th>volume</th>\n",
       "      <th>weekday</th>\n",
       "    </tr>\n",
       "  </thead>\n",
       "  <tbody>\n",
       "    <tr>\n",
       "      <th>0</th>\n",
       "      <td>isin0</td>\n",
       "      <td>1458239400</td>\n",
       "      <td>0</td>\n",
       "      <td>0</td>\n",
       "      <td>3900000</td>\n",
       "      <td>0</td>\n",
       "    </tr>\n",
       "    <tr>\n",
       "      <th>1</th>\n",
       "      <td>isin0</td>\n",
       "      <td>1458239400</td>\n",
       "      <td>1</td>\n",
       "      <td>1</td>\n",
       "      <td>7800000</td>\n",
       "      <td>0</td>\n",
       "    </tr>\n",
       "    <tr>\n",
       "      <th>2</th>\n",
       "      <td>isin0</td>\n",
       "      <td>1458239400</td>\n",
       "      <td>0</td>\n",
       "      <td>1</td>\n",
       "      <td>0</td>\n",
       "      <td>0</td>\n",
       "    </tr>\n",
       "    <tr>\n",
       "      <th>3</th>\n",
       "      <td>isin0</td>\n",
       "      <td>1458239400</td>\n",
       "      <td>1</td>\n",
       "      <td>0</td>\n",
       "      <td>0</td>\n",
       "      <td>0</td>\n",
       "    </tr>\n",
       "    <tr>\n",
       "      <th>4</th>\n",
       "      <td>isin0</td>\n",
       "      <td>1463077800</td>\n",
       "      <td>0</td>\n",
       "      <td>0</td>\n",
       "      <td>3870000</td>\n",
       "      <td>0</td>\n",
       "    </tr>\n",
       "  </tbody>\n",
       "</table>\n",
       "</div>"
      ],
      "text/plain": [
       "    isin        date  side  timeofday   volume  weekday\n",
       "0  isin0  1458239400     0          0  3900000        0\n",
       "1  isin0  1458239400     1          1  7800000        0\n",
       "2  isin0  1458239400     0          1        0        0\n",
       "3  isin0  1458239400     1          0        0        0\n",
       "4  isin0  1463077800     0          0  3870000        0"
      ]
     },
     "execution_count": 23,
     "metadata": {},
     "output_type": "execute_result"
    }
   ],
   "source": [
    "MAIN_df_now.head()"
   ]
  },
  {
   "cell_type": "code",
   "execution_count": 84,
   "metadata": {
    "collapsed": false
   },
   "outputs": [
    {
     "data": {
      "text/plain": [
       "(4211684, 6)"
      ]
     },
     "execution_count": 84,
     "metadata": {},
     "output_type": "execute_result"
    }
   ],
   "source": [
    "MAIN_df_now.shape"
   ]
  },
  {
   "cell_type": "code",
   "execution_count": 85,
   "metadata": {
    "collapsed": false
   },
   "outputs": [
    {
     "data": {
      "text/html": [
       "<div>\n",
       "<table border=\"1\" class=\"dataframe\">\n",
       "  <thead>\n",
       "    <tr style=\"text-align: right;\">\n",
       "      <th></th>\n",
       "      <th>date</th>\n",
       "      <th>side</th>\n",
       "      <th>timeofday</th>\n",
       "      <th>volume</th>\n",
       "      <th>weekday</th>\n",
       "    </tr>\n",
       "  </thead>\n",
       "  <tbody>\n",
       "    <tr>\n",
       "      <th>count</th>\n",
       "      <td>4.211684e+06</td>\n",
       "      <td>4211684.0</td>\n",
       "      <td>4211684.0</td>\n",
       "      <td>4.211684e+06</td>\n",
       "      <td>4211684.000000</td>\n",
       "    </tr>\n",
       "    <tr>\n",
       "      <th>mean</th>\n",
       "      <td>1.461710e+09</td>\n",
       "      <td>0.5</td>\n",
       "      <td>0.5</td>\n",
       "      <td>3.634999e+05</td>\n",
       "      <td>2.189413</td>\n",
       "    </tr>\n",
       "    <tr>\n",
       "      <th>std</th>\n",
       "      <td>2.153855e+06</td>\n",
       "      <td>0.5</td>\n",
       "      <td>0.5</td>\n",
       "      <td>2.137913e+06</td>\n",
       "      <td>1.468970</td>\n",
       "    </tr>\n",
       "    <tr>\n",
       "      <th>min</th>\n",
       "      <td>1.458067e+09</td>\n",
       "      <td>0.0</td>\n",
       "      <td>0.0</td>\n",
       "      <td>0.000000e+00</td>\n",
       "      <td>0.000000</td>\n",
       "    </tr>\n",
       "    <tr>\n",
       "      <th>25%</th>\n",
       "      <td>1.459881e+09</td>\n",
       "      <td>0.0</td>\n",
       "      <td>0.0</td>\n",
       "      <td>0.000000e+00</td>\n",
       "      <td>1.000000</td>\n",
       "    </tr>\n",
       "    <tr>\n",
       "      <th>50%</th>\n",
       "      <td>1.461695e+09</td>\n",
       "      <td>0.5</td>\n",
       "      <td>0.5</td>\n",
       "      <td>0.000000e+00</td>\n",
       "      <td>2.000000</td>\n",
       "    </tr>\n",
       "    <tr>\n",
       "      <th>75%</th>\n",
       "      <td>1.463510e+09</td>\n",
       "      <td>1.0</td>\n",
       "      <td>1.0</td>\n",
       "      <td>0.000000e+00</td>\n",
       "      <td>4.000000</td>\n",
       "    </tr>\n",
       "    <tr>\n",
       "      <th>max</th>\n",
       "      <td>1.465411e+09</td>\n",
       "      <td>1.0</td>\n",
       "      <td>1.0</td>\n",
       "      <td>4.980400e+08</td>\n",
       "      <td>4.000000</td>\n",
       "    </tr>\n",
       "  </tbody>\n",
       "</table>\n",
       "</div>"
      ],
      "text/plain": [
       "               date       side  timeofday        volume         weekday\n",
       "count  4.211684e+06  4211684.0  4211684.0  4.211684e+06  4211684.000000\n",
       "mean   1.461710e+09        0.5        0.5  3.634999e+05        2.189413\n",
       "std    2.153855e+06        0.5        0.5  2.137913e+06        1.468970\n",
       "min    1.458067e+09        0.0        0.0  0.000000e+00        0.000000\n",
       "25%    1.459881e+09        0.0        0.0  0.000000e+00        1.000000\n",
       "50%    1.461695e+09        0.5        0.5  0.000000e+00        2.000000\n",
       "75%    1.463510e+09        1.0        1.0  0.000000e+00        4.000000\n",
       "max    1.465411e+09        1.0        1.0  4.980400e+08        4.000000"
      ]
     },
     "execution_count": 85,
     "metadata": {},
     "output_type": "execute_result"
    }
   ],
   "source": [
    "MAIN_df_now.describe()"
   ]
  },
  {
   "cell_type": "code",
   "execution_count": 88,
   "metadata": {
    "collapsed": false
   },
   "outputs": [
    {
     "data": {
      "text/plain": [
       "7344000.0"
      ]
     },
     "execution_count": 88,
     "metadata": {},
     "output_type": "execute_result"
    }
   ],
   "source": [
    "MAIN_df_now[\"date\"].max() - MAIN_df_now[\"date\"].min()"
   ]
  },
  {
   "cell_type": "code",
   "execution_count": 89,
   "metadata": {
    "collapsed": true
   },
   "outputs": [],
   "source": [
    "min_date = MAIN_df_now[\"date\"].min()\n",
    "again_poss_dates = list(MAIN_df_now[\"date\"].unique())"
   ]
  },
  {
   "cell_type": "code",
   "execution_count": 97,
   "metadata": {
    "collapsed": false
   },
   "outputs": [
    {
     "name": "stdout",
     "output_type": "stream",
     "text": [
      "1458066600.0\n"
     ]
    },
    {
     "data": {
      "text/plain": [
       "1465410600.0"
      ]
     },
     "execution_count": 97,
     "metadata": {},
     "output_type": "execute_result"
    }
   ],
   "source": [
    "print(min_date)\n",
    "MAIN_df_now[\"date\"].max()"
   ]
  },
  {
   "cell_type": "code",
   "execution_count": 90,
   "metadata": {
    "collapsed": true
   },
   "outputs": [],
   "source": [
    "# MAIN_GROUP = list(MAIN_df_now.groupby(\"isin\"))"
   ]
  },
  {
   "cell_type": "code",
   "execution_count": 105,
   "metadata": {
    "collapsed": true
   },
   "outputs": [],
   "source": [
    "# no_date = 1464546600"
   ]
  },
  {
   "cell_type": "markdown",
   "metadata": {},
   "source": [
    " ### <<< -------------- \n",
    " ---- This was for adding the \"no_date\" date, i.e., \"29th May\" to the dataset. \n",
    " In this day none of the bonds were traded.\n",
    " #### But adding this and then then combining with the existing framework decreased the efficiency of the model.\n",
    " So, commenting the entire section for this.\n",
    " "
   ]
  },
  {
   "cell_type": "code",
   "execution_count": 111,
   "metadata": {
    "collapsed": false
   },
   "outputs": [
    {
     "name": "stdout",
     "output_type": "stream",
     "text": [
      "start\n",
      "0\n",
      "10000\n"
     ]
    }
   ],
   "source": [
    "\n",
    "\"\"\"\n",
    "len_tiger = len(MAIN_GROUP)\n",
    "main_isin_list = []\n",
    "print(\"start\")\n",
    "side_list = [0, 0, 1, 1]\n",
    "time_list = [0, 1, 0, 1]\n",
    "full_list_bond_df = []\n",
    "for i in range(len_tiger):\n",
    "    if i%10000 == 0:\n",
    "        print(i)\n",
    "    main_per_bondname = MAIN_GROUP[i][0]\n",
    "    main_per_bond = MAIN_GROUP[i][1]\n",
    "    weekday_l = main_per_bond[\"weekday\"].iloc[0]\n",
    "    # date_list = list(main_per_bond[\"date\"].unique())\n",
    "    list_for_each_bond = []\n",
    "    list_for_each_bond.append(main_per_bond)\n",
    "  \n",
    "    tmp_df = pd.DataFrame(index = np.arange(4))\n",
    "    tmp_df[\"isin\"] = main_per_bondname\n",
    "    tmp_df[\"date\"] = no_date\n",
    "    tmp_df[\"side\"] = side_list\n",
    "    tmp_df[\"timeofday\"] = time_list\n",
    "    tmp_df[\"volume\"] = 0\n",
    "    tmp_df[\"weekday\"] = weekday_l\n",
    "    list_for_each_bond.append(tmp_df)\n",
    "    for_each_bond_df = pd.concat(list_for_each_bond)\n",
    "    full_list_bond_df.append(for_each_bond_df)\n",
    "\n",
    "\"\"\""
   ]
  },
  {
   "cell_type": "code",
   "execution_count": 112,
   "metadata": {
    "collapsed": true
   },
   "outputs": [],
   "source": [
    "# MMMAIN_df_now = pd.concat(full_list_bond_df)"
   ]
  },
  {
   "cell_type": "code",
   "execution_count": 113,
   "metadata": {
    "collapsed": false
   },
   "outputs": [
    {
     "name": "stdout",
     "output_type": "stream",
     "text": [
      "(4280728, 6)\n"
     ]
    }
   ],
   "source": [
    "# print(MMMAIN_df_now.shape)\n",
    "# MMMAIN_df_now.to_csv(\"FINAL_TRAIN_DATA_PART1.csv\")\n"
   ]
  },
  {
   "cell_type": "code",
   "execution_count": 15,
   "metadata": {
    "collapsed": true
   },
   "outputs": [],
   "source": [
    "#MMMAIN_df_now = pd.read_csv(\"FINAL_TRAIN_DATA_PART1.csv\")"
   ]
  },
  {
   "cell_type": "code",
   "execution_count": 16,
   "metadata": {
    "collapsed": true
   },
   "outputs": [],
   "source": [
    "#MMMAIN_df_now = MMMAIN_df_now.drop(\"Unnamed: 0\", axis = 1)"
   ]
  },
  {
   "cell_type": "markdown",
   "metadata": {},
   "source": [
    "###  ----------- >>>"
   ]
  },
  {
   "cell_type": "markdown",
   "metadata": {},
   "source": [
    "### Again we saved the created MAIN_df_now dataframe to MAIN_DF.csv\n",
    "### For multiple trials, we directly read it from the generated file. (If you are trying to run this notebook, just comment the next block.)\n",
    "(You can check that the code for generation of this file is above.)"
   ]
  },
  {
   "cell_type": "code",
   "execution_count": 80,
   "metadata": {
    "collapsed": true
   },
   "outputs": [],
   "source": [
    "MAIN_df_now = pd.read_csv(\"MAIN_DF.csv\")"
   ]
  },
  {
   "cell_type": "code",
   "execution_count": 81,
   "metadata": {
    "collapsed": false
   },
   "outputs": [
    {
     "data": {
      "text/plain": [
       "array(['Unnamed: 0', 'isin', 'date', 'side', 'timeofday', 'volume',\n",
       "       'weekday'], dtype=object)"
      ]
     },
     "execution_count": 81,
     "metadata": {},
     "output_type": "execute_result"
    }
   ],
   "source": [
    "MAIN_df_now.columns.values"
   ]
  },
  {
   "cell_type": "code",
   "execution_count": 82,
   "metadata": {
    "collapsed": true
   },
   "outputs": [],
   "source": [
    "MAIN_df_now = MAIN_df_now.drop(\"Unnamed: 0\", axis = 1)"
   ]
  },
  {
   "cell_type": "markdown",
   "metadata": {},
   "source": [
    "## ------------------------------------"
   ]
  },
  {
   "cell_type": "markdown",
   "metadata": {},
   "source": [
    "### Now cleaning and pre processing the meta data"
   ]
  },
  {
   "cell_type": "code",
   "execution_count": 17,
   "metadata": {
    "collapsed": false
   },
   "outputs": [],
   "source": [
    "#meta_data.isnull().sum()"
   ]
  },
  {
   "cell_type": "code",
   "execution_count": 18,
   "metadata": {
    "collapsed": false
   },
   "outputs": [
    {
     "data": {
      "text/plain": [
       "array([' 8Dec2011', '10-Sep-10', '14-Nov-14', ..., ' 3May2010',\n",
       "       '16-Aug-10', '12-Jun-14'], dtype=object)"
      ]
     },
     "execution_count": 18,
     "metadata": {},
     "output_type": "execute_result"
    }
   ],
   "source": [
    "meta_data[\"issue date\"].unique()"
   ]
  },
  {
   "cell_type": "code",
   "execution_count": 19,
   "metadata": {
    "collapsed": false
   },
   "outputs": [
    {
     "data": {
      "text/plain": [
       "4045"
      ]
     },
     "execution_count": 19,
     "metadata": {},
     "output_type": "execute_result"
    }
   ],
   "source": [
    "meta_data[\"issuer\"].nunique()"
   ]
  },
  {
   "cell_type": "code",
   "execution_count": 20,
   "metadata": {
    "collapsed": false
   },
   "outputs": [],
   "source": [
    "\n",
    "price_feature = list(data.groupby(\"isin\"))"
   ]
  },
  {
   "cell_type": "code",
   "execution_count": 21,
   "metadata": {
    "collapsed": false
   },
   "outputs": [
    {
     "data": {
      "text/plain": [
       "count     5.000000\n",
       "mean     83.147486\n",
       "std       3.849208\n",
       "min      78.801616\n",
       "25%      79.063415\n",
       "50%      85.870199\n",
       "75%      86.001099\n",
       "max      86.001099\n",
       "Name: price, dtype: float64"
      ]
     },
     "execution_count": 21,
     "metadata": {},
     "output_type": "execute_result"
    }
   ],
   "source": [
    "price_feature[0][1][\"price\"].describe()"
   ]
  },
  {
   "cell_type": "code",
   "execution_count": 22,
   "metadata": {
    "collapsed": false
   },
   "outputs": [
    {
     "data": {
      "text/plain": [
       "(34, 7)"
      ]
     },
     "execution_count": 22,
     "metadata": {},
     "output_type": "execute_result"
    }
   ],
   "source": [
    "price_feature[1][1].shape"
   ]
  },
  {
   "cell_type": "code",
   "execution_count": 23,
   "metadata": {
    "collapsed": false
   },
   "outputs": [],
   "source": [
    "p_tmp = price_feature[5][1].copy()\n",
    "p_series = convert_epoch(p_tmp[\"date\"])"
   ]
  },
  {
   "cell_type": "code",
   "execution_count": 24,
   "metadata": {
    "collapsed": false
   },
   "outputs": [
    {
     "data": {
      "text/plain": [
       "1463682600.0"
      ]
     },
     "execution_count": 24,
     "metadata": {},
     "output_type": "execute_result"
    }
   ],
   "source": [
    "p_series.max()"
   ]
  },
  {
   "cell_type": "code",
   "execution_count": 25,
   "metadata": {
    "collapsed": false
   },
   "outputs": [
    {
     "data": {
      "text/html": [
       "<div>\n",
       "<table border=\"1\" class=\"dataframe\">\n",
       "  <thead>\n",
       "    <tr style=\"text-align: right;\">\n",
       "      <th></th>\n",
       "      <th>isin</th>\n",
       "      <th>time</th>\n",
       "      <th>price</th>\n",
       "      <th>side</th>\n",
       "      <th>volume</th>\n",
       "      <th>timeofday</th>\n",
       "      <th>date</th>\n",
       "    </tr>\n",
       "  </thead>\n",
       "  <tbody>\n",
       "    <tr>\n",
       "      <th>376</th>\n",
       "      <td>isin10000</td>\n",
       "      <td>Tue 22Mar16 04:49:13.000 pm</td>\n",
       "      <td>10.121583</td>\n",
       "      <td>S</td>\n",
       "      <td>3900000</td>\n",
       "      <td>Afternoon</td>\n",
       "      <td>22Mar2016</td>\n",
       "    </tr>\n",
       "    <tr>\n",
       "      <th>378</th>\n",
       "      <td>isin10000</td>\n",
       "      <td>Mon 28Mar16 02:28:19.000 pm</td>\n",
       "      <td>9.738937</td>\n",
       "      <td>S</td>\n",
       "      <td>10000</td>\n",
       "      <td>Afternoon</td>\n",
       "      <td>28Mar2016</td>\n",
       "    </tr>\n",
       "    <tr>\n",
       "      <th>379</th>\n",
       "      <td>isin10000</td>\n",
       "      <td>Mon 28Mar16 02:29:00.000 pm</td>\n",
       "      <td>9.738937</td>\n",
       "      <td>S</td>\n",
       "      <td>10000</td>\n",
       "      <td>Afternoon</td>\n",
       "      <td>28Mar2016</td>\n",
       "    </tr>\n",
       "    <tr>\n",
       "      <th>380</th>\n",
       "      <td>isin10000</td>\n",
       "      <td>Tue 19Apr16 10:57:00.000 am</td>\n",
       "      <td>10.084512</td>\n",
       "      <td>S</td>\n",
       "      <td>5000</td>\n",
       "      <td>Morning</td>\n",
       "      <td>19Apr2016</td>\n",
       "    </tr>\n",
       "    <tr>\n",
       "      <th>384</th>\n",
       "      <td>isin10000</td>\n",
       "      <td>Thu 12May16 10:21:18.000 am</td>\n",
       "      <td>10.273008</td>\n",
       "      <td>S</td>\n",
       "      <td>5000</td>\n",
       "      <td>Morning</td>\n",
       "      <td>12May2016</td>\n",
       "    </tr>\n",
       "    <tr>\n",
       "      <th>386</th>\n",
       "      <td>isin10000</td>\n",
       "      <td>Mon 11Apr16 10:29:42.000 am</td>\n",
       "      <td>9.749409</td>\n",
       "      <td>S</td>\n",
       "      <td>5000</td>\n",
       "      <td>Morning</td>\n",
       "      <td>11Apr2016</td>\n",
       "    </tr>\n",
       "  </tbody>\n",
       "</table>\n",
       "</div>"
      ],
      "text/plain": [
       "          isin                         time      price side   volume  \\\n",
       "376  isin10000  Tue 22Mar16 04:49:13.000 pm  10.121583    S  3900000   \n",
       "378  isin10000  Mon 28Mar16 02:28:19.000 pm   9.738937    S    10000   \n",
       "379  isin10000  Mon 28Mar16 02:29:00.000 pm   9.738937    S    10000   \n",
       "380  isin10000  Tue 19Apr16 10:57:00.000 am  10.084512    S     5000   \n",
       "384  isin10000  Thu 12May16 10:21:18.000 am  10.273008    S     5000   \n",
       "386  isin10000  Mon 11Apr16 10:29:42.000 am   9.749409    S     5000   \n",
       "\n",
       "     timeofday       date  \n",
       "376  Afternoon  22Mar2016  \n",
       "378  Afternoon  28Mar2016  \n",
       "379  Afternoon  28Mar2016  \n",
       "380    Morning  19Apr2016  \n",
       "384    Morning  12May2016  \n",
       "386    Morning  11Apr2016  "
      ]
     },
     "execution_count": 25,
     "metadata": {},
     "output_type": "execute_result"
    }
   ],
   "source": [
    "p_tmp1 = price_feature[5][1].copy()\n",
    "aq = list(p_tmp1.groupby([\"side\"]))\n",
    "aq[1][1]"
   ]
  },
  {
   "cell_type": "code",
   "execution_count": 26,
   "metadata": {
    "collapsed": false
   },
   "outputs": [
    {
     "data": {
      "text/html": [
       "<div>\n",
       "<table border=\"1\" class=\"dataframe\">\n",
       "  <thead>\n",
       "    <tr style=\"text-align: right;\">\n",
       "      <th></th>\n",
       "      <th>isin</th>\n",
       "      <th>issuer</th>\n",
       "      <th>issue date</th>\n",
       "      <th>Market</th>\n",
       "      <th>amtIssued</th>\n",
       "      <th>amtOutstanding</th>\n",
       "      <th>collateralType</th>\n",
       "      <th>coupon</th>\n",
       "      <th>couponFrequency</th>\n",
       "      <th>couponType</th>\n",
       "      <th>...</th>\n",
       "      <th>industrySector</th>\n",
       "      <th>industrySubgroup</th>\n",
       "      <th>maturityType</th>\n",
       "      <th>securityType</th>\n",
       "      <th>paymentRank</th>\n",
       "      <th>144aFlag</th>\n",
       "      <th>ratingAgency1Rating</th>\n",
       "      <th>ratingAgency1Watch</th>\n",
       "      <th>ratingAgency2Rating</th>\n",
       "      <th>ratingAgency2Watch</th>\n",
       "    </tr>\n",
       "  </thead>\n",
       "  <tbody>\n",
       "    <tr>\n",
       "      <th>0</th>\n",
       "      <td>isin0</td>\n",
       "      <td>issuer490</td>\n",
       "      <td>8Dec2011</td>\n",
       "      <td>Market2</td>\n",
       "      <td>183260000</td>\n",
       "      <td>183260000</td>\n",
       "      <td>collateralType19</td>\n",
       "      <td>10.000</td>\n",
       "      <td>2.0</td>\n",
       "      <td>couponType1</td>\n",
       "      <td>...</td>\n",
       "      <td>industrySector0</td>\n",
       "      <td>industrySubgroup146</td>\n",
       "      <td>maturityType5</td>\n",
       "      <td>securityType3</td>\n",
       "      <td>paymentRank3</td>\n",
       "      <td>flag0</td>\n",
       "      <td>rating0</td>\n",
       "      <td>watch0</td>\n",
       "      <td>rating0</td>\n",
       "      <td>watch0</td>\n",
       "    </tr>\n",
       "    <tr>\n",
       "      <th>1</th>\n",
       "      <td>isin1</td>\n",
       "      <td>issuer1193</td>\n",
       "      <td>10-Sep-10</td>\n",
       "      <td>Market2</td>\n",
       "      <td>261800000</td>\n",
       "      <td>198970000</td>\n",
       "      <td>collateralType26</td>\n",
       "      <td>5.500</td>\n",
       "      <td>2.0</td>\n",
       "      <td>couponType1</td>\n",
       "      <td>...</td>\n",
       "      <td>industrySector0</td>\n",
       "      <td>industrySubgroup146</td>\n",
       "      <td>maturityType10</td>\n",
       "      <td>securityType5</td>\n",
       "      <td>paymentRank8</td>\n",
       "      <td>flag0</td>\n",
       "      <td>rating0</td>\n",
       "      <td>watch0</td>\n",
       "      <td>rating0</td>\n",
       "      <td>watch0</td>\n",
       "    </tr>\n",
       "    <tr>\n",
       "      <th>2</th>\n",
       "      <td>isin2</td>\n",
       "      <td>issuer2943</td>\n",
       "      <td>14-Nov-14</td>\n",
       "      <td>Market2</td>\n",
       "      <td>78540000</td>\n",
       "      <td>78540000</td>\n",
       "      <td>collateralType28</td>\n",
       "      <td>5.750</td>\n",
       "      <td>2.0</td>\n",
       "      <td>couponType1</td>\n",
       "      <td>...</td>\n",
       "      <td>industrySector0</td>\n",
       "      <td>industrySubgroup239</td>\n",
       "      <td>maturityType10</td>\n",
       "      <td>securityType5</td>\n",
       "      <td>paymentRank9</td>\n",
       "      <td>flag1</td>\n",
       "      <td>rating0</td>\n",
       "      <td>watch0</td>\n",
       "      <td>rating0</td>\n",
       "      <td>watch0</td>\n",
       "    </tr>\n",
       "    <tr>\n",
       "      <th>3</th>\n",
       "      <td>isin3</td>\n",
       "      <td>issuer3707</td>\n",
       "      <td>4Mar2013</td>\n",
       "      <td>Market1</td>\n",
       "      <td>1570800000</td>\n",
       "      <td>1570800000</td>\n",
       "      <td>collateralType28</td>\n",
       "      <td>4.750</td>\n",
       "      <td>1.0</td>\n",
       "      <td>couponType6</td>\n",
       "      <td>...</td>\n",
       "      <td>industrySector6</td>\n",
       "      <td>industrySubgroup85</td>\n",
       "      <td>maturityType5</td>\n",
       "      <td>securityType2</td>\n",
       "      <td>paymentRank9</td>\n",
       "      <td>flag0</td>\n",
       "      <td>rating18</td>\n",
       "      <td>watch0</td>\n",
       "      <td>rating22</td>\n",
       "      <td>watch0</td>\n",
       "    </tr>\n",
       "    <tr>\n",
       "      <th>4</th>\n",
       "      <td>isin4</td>\n",
       "      <td>issuer3711</td>\n",
       "      <td>25-Nov-14</td>\n",
       "      <td>Market0</td>\n",
       "      <td>1309000000</td>\n",
       "      <td>1309000000</td>\n",
       "      <td>collateralType12</td>\n",
       "      <td>7.125</td>\n",
       "      <td>1.0</td>\n",
       "      <td>couponType6</td>\n",
       "      <td>...</td>\n",
       "      <td>industrySector6</td>\n",
       "      <td>industrySubgroup85</td>\n",
       "      <td>maturityType13</td>\n",
       "      <td>securityType3</td>\n",
       "      <td>paymentRank5</td>\n",
       "      <td>flag0</td>\n",
       "      <td>rating15</td>\n",
       "      <td>watch0</td>\n",
       "      <td>rating0</td>\n",
       "      <td>watch0</td>\n",
       "    </tr>\n",
       "  </tbody>\n",
       "</table>\n",
       "<p>5 rows × 21 columns</p>\n",
       "</div>"
      ],
      "text/plain": [
       "    isin      issuer issue date   Market   amtIssued  amtOutstanding  \\\n",
       "0  isin0   issuer490   8Dec2011  Market2   183260000       183260000   \n",
       "1  isin1  issuer1193  10-Sep-10  Market2   261800000       198970000   \n",
       "2  isin2  issuer2943  14-Nov-14  Market2    78540000        78540000   \n",
       "3  isin3  issuer3707   4Mar2013  Market1  1570800000      1570800000   \n",
       "4  isin4  issuer3711  25-Nov-14  Market0  1309000000      1309000000   \n",
       "\n",
       "     collateralType  coupon  couponFrequency   couponType        ...          \\\n",
       "0  collateralType19  10.000              2.0  couponType1        ...           \n",
       "1  collateralType26   5.500              2.0  couponType1        ...           \n",
       "2  collateralType28   5.750              2.0  couponType1        ...           \n",
       "3  collateralType28   4.750              1.0  couponType6        ...           \n",
       "4  collateralType12   7.125              1.0  couponType6        ...           \n",
       "\n",
       "    industrySector     industrySubgroup    maturityType   securityType  \\\n",
       "0  industrySector0  industrySubgroup146   maturityType5  securityType3   \n",
       "1  industrySector0  industrySubgroup146  maturityType10  securityType5   \n",
       "2  industrySector0  industrySubgroup239  maturityType10  securityType5   \n",
       "3  industrySector6   industrySubgroup85   maturityType5  securityType2   \n",
       "4  industrySector6   industrySubgroup85  maturityType13  securityType3   \n",
       "\n",
       "    paymentRank 144aFlag ratingAgency1Rating ratingAgency1Watch  \\\n",
       "0  paymentRank3    flag0             rating0             watch0   \n",
       "1  paymentRank8    flag0             rating0             watch0   \n",
       "2  paymentRank9    flag1             rating0             watch0   \n",
       "3  paymentRank9    flag0            rating18             watch0   \n",
       "4  paymentRank5    flag0            rating15             watch0   \n",
       "\n",
       "  ratingAgency2Rating ratingAgency2Watch  \n",
       "0             rating0             watch0  \n",
       "1             rating0             watch0  \n",
       "2             rating0             watch0  \n",
       "3            rating22             watch0  \n",
       "4             rating0             watch0  \n",
       "\n",
       "[5 rows x 21 columns]"
      ]
     },
     "execution_count": 26,
     "metadata": {},
     "output_type": "execute_result"
    }
   ],
   "source": [
    "meta_data_1 = meta_data_clean1(meta_data)\n",
    "meta_data_1.head()"
   ]
  },
  {
   "cell_type": "code",
   "execution_count": 27,
   "metadata": {
    "collapsed": false
   },
   "outputs": [],
   "source": [
    "meta_data_2 = meta_data_clean2(meta_data_1)"
   ]
  },
  {
   "cell_type": "code",
   "execution_count": 30,
   "metadata": {
    "collapsed": false
   },
   "outputs": [
    {
     "data": {
      "text/plain": [
       "4045"
      ]
     },
     "execution_count": 30,
     "metadata": {},
     "output_type": "execute_result"
    }
   ],
   "source": [
    "meta_data_2[\"issuer\"].nunique()"
   ]
  },
  {
   "cell_type": "code",
   "execution_count": 31,
   "metadata": {
    "collapsed": false
   },
   "outputs": [],
   "source": [
    "epoch_test = datetime.strptime(\"10Jun2016\", '%d%b%Y')\n",
    "epoch_test = epoch_test.timestamp()\n",
    "def time_last_delta(t1):\n",
    "    x = datetime.fromtimestamp(epoch_test)\n",
    "    y = datetime.fromtimestamp(t1)\n",
    "    z = x - y\n",
    "    return z.days"
   ]
  },
  {
   "cell_type": "markdown",
   "metadata": {},
   "source": [
    "#### Adding features like mean_price, standard_deviation_price, number of days bond is traded, total price sell, total price buy.\n"
   ]
  },
  {
   "cell_type": "code",
   "execution_count": 32,
   "metadata": {
    "collapsed": false
   },
   "outputs": [],
   "source": [
    "map_mean = {}\n",
    "map_std = {}\n",
    "map_numdays = {}\n",
    "map_day_std = {}\n",
    "map_sell_num = {}\n",
    "map_buy_num = {}\n",
    "\n",
    "map_buy_vol = {}\n",
    "map_sell_vol = {}\n",
    "\n",
    "for i in range(meta_data.shape[0]):\n",
    "    bond_num = price_feature[i][0]\n",
    "    meanx = price_feature[i][1][\"price\"].mean()\n",
    "    stdx = price_feature[i][1][\"price\"].std()\n",
    "    \n",
    "    # vol_mean = price_feature[i][1][\"volume\"].sum()\n",
    "    map_mean[bond_num] = meanx\n",
    "    map_std[bond_num] = stdx\n",
    "    map_numdays[bond_num] = price_feature[i][1].shape[0]\n",
    "    \n",
    "    p_series = convert_epoch(price_feature[i][1][\"date\"])\n",
    "    last_epoch1 = p_series.std()\n",
    "    #print(last_epoch1)\n",
    "    map_day_std[bond_num] = last_epoch1\n",
    "    \n",
    "    p_tmp1 = price_feature[i][1].copy()\n",
    "    p_tmp_group = list(p_tmp1.groupby(\"side\"))\n",
    "    #print(p_tmp_group)\n",
    "    if len(p_tmp_group) == 2:\n",
    "        map_sell_num[bond_num] = p_tmp_group[1][1].shape[0]\n",
    "        cat_sell = p_tmp_group[1][1][\"volume\"].sum()\n",
    "        map_buy_num[bond_num] = p_tmp_group[0][1].shape[0]\n",
    "        cat_buy = p_tmp_group[0][1][\"volume\"].sum()\n",
    "    else:\n",
    "        if p_tmp_group[0][0] == 0:\n",
    "            map_buy_num[bond_num] = p_tmp_group[0][1].shape[0]\n",
    "            map_sell_num[bond_num] = 0\n",
    "            cat_buy = p_tmp_group[0][1][\"volume\"].sum()\n",
    "            cat_sell = 0\n",
    "        else:\n",
    "            map_sell_num[bond_num] = p_tmp_group[0][1].shape[0]\n",
    "            map_buy_num[bond_num] = 0\n",
    "            cat_sell = p_tmp_group[0][1][\"volume\"].sum()\n",
    "            cat_buy = 0\n",
    "            \n",
    "    map_buy_vol[bond_num] = meanx * cat_buy\n",
    "    map_sell_vol[bond_num] = meanx * cat_sell\n",
    "\n",
    "mean_col = []\n",
    "std_col = []\n",
    "trade_days_col = []\n",
    "days_std_col = []\n",
    "\n",
    "days_sell = []\n",
    "days_buy = []\n",
    "\n",
    "cat_sell = []\n",
    "cat_buy = []\n",
    "\n",
    "for bond in meta_data_2[\"isin\"]:\n",
    "    mean_col.append(map_mean[bond])\n",
    "    std_col.append(map_std[bond])\n",
    "    trade_days_col.append(map_numdays[bond])\n",
    "    days_std_col.append(map_day_std[bond])\n",
    "    days_sell.append(map_sell_num[bond])\n",
    "    days_buy.append(map_buy_num[bond])\n",
    "    cat_sell.append(map_sell_vol[bond])\n",
    "    cat_buy.append(map_buy_vol[bond])"
   ]
  },
  {
   "cell_type": "code",
   "execution_count": null,
   "metadata": {
    "collapsed": false
   },
   "outputs": [],
   "source": []
  },
  {
   "cell_type": "code",
   "execution_count": 33,
   "metadata": {
    "collapsed": true
   },
   "outputs": [],
   "source": [
    "meta_data_2[\"price_mean\"] = mean_col\n",
    "meta_data_2[\"price_std\"] = std_col\n",
    "meta_data_2[\"trade_days\"] = trade_days_col\n",
    "\n",
    "meta_data_2[\"cat_sell\"] = cat_sell\n",
    "meta_data_2[\"cat_buy\"] = cat_buy\n",
    "# meta_data_2[\"days_std\"] = days_std_col\n",
    "# meta_data_2[\"buy_days\"] = days_buy\n",
    "# meta_data_2[\"sell_days\"] = days_sell\n",
    "meta_data_2_tmp = meta_data_2.copy()"
   ]
  },
  {
   "cell_type": "code",
   "execution_count": 38,
   "metadata": {
    "collapsed": false
   },
   "outputs": [],
   "source": [
    "meta_data_2.to_csv(\"meta_wihout_mat.csv\",index=False)"
   ]
  },
  {
   "cell_type": "markdown",
   "metadata": {},
   "source": [
    "## ------------------------------------------------"
   ]
  },
  {
   "cell_type": "markdown",
   "metadata": {},
   "source": [
    "### Merging the data and the metadata together now"
   ]
  },
  {
   "cell_type": "code",
   "execution_count": 83,
   "metadata": {
    "collapsed": false
   },
   "outputs": [],
   "source": [
    "mrg_data = MAIN_df_now.merge(meta_data_2,on='isin')"
   ]
  },
  {
   "cell_type": "code",
   "execution_count": 84,
   "metadata": {
    "collapsed": false
   },
   "outputs": [
    {
     "data": {
      "text/html": [
       "<div>\n",
       "<table border=\"1\" class=\"dataframe\">\n",
       "  <thead>\n",
       "    <tr style=\"text-align: right;\">\n",
       "      <th></th>\n",
       "      <th>isin</th>\n",
       "      <th>date</th>\n",
       "      <th>side</th>\n",
       "      <th>timeofday</th>\n",
       "      <th>volume</th>\n",
       "      <th>weekday</th>\n",
       "      <th>issuer</th>\n",
       "      <th>Market</th>\n",
       "      <th>amtIssued</th>\n",
       "      <th>amtOutstanding</th>\n",
       "      <th>...</th>\n",
       "      <th>ratingAgency1Rating</th>\n",
       "      <th>ratingAgency1Watch</th>\n",
       "      <th>ratingAgency2Rating</th>\n",
       "      <th>ratingAgency2Watch</th>\n",
       "      <th>issue date</th>\n",
       "      <th>price_mean</th>\n",
       "      <th>price_std</th>\n",
       "      <th>trade_days</th>\n",
       "      <th>cat_sell</th>\n",
       "      <th>cat_buy</th>\n",
       "    </tr>\n",
       "  </thead>\n",
       "  <tbody>\n",
       "    <tr>\n",
       "      <th>0</th>\n",
       "      <td>isin0</td>\n",
       "      <td>1.458239e+09</td>\n",
       "      <td>0</td>\n",
       "      <td>0</td>\n",
       "      <td>3900000</td>\n",
       "      <td>0</td>\n",
       "      <td>3480</td>\n",
       "      <td>2</td>\n",
       "      <td>183260000</td>\n",
       "      <td>183260000</td>\n",
       "      <td>...</td>\n",
       "      <td>0</td>\n",
       "      <td>0</td>\n",
       "      <td>0</td>\n",
       "      <td>0</td>\n",
       "      <td>1.323283e+09</td>\n",
       "      <td>83.147486</td>\n",
       "      <td>3.849208</td>\n",
       "      <td>5</td>\n",
       "      <td>9.703312e+08</td>\n",
       "      <td>6.460560e+08</td>\n",
       "    </tr>\n",
       "    <tr>\n",
       "      <th>1</th>\n",
       "      <td>isin0</td>\n",
       "      <td>1.458239e+09</td>\n",
       "      <td>1</td>\n",
       "      <td>1</td>\n",
       "      <td>7800000</td>\n",
       "      <td>0</td>\n",
       "      <td>3480</td>\n",
       "      <td>2</td>\n",
       "      <td>183260000</td>\n",
       "      <td>183260000</td>\n",
       "      <td>...</td>\n",
       "      <td>0</td>\n",
       "      <td>0</td>\n",
       "      <td>0</td>\n",
       "      <td>0</td>\n",
       "      <td>1.323283e+09</td>\n",
       "      <td>83.147486</td>\n",
       "      <td>3.849208</td>\n",
       "      <td>5</td>\n",
       "      <td>9.703312e+08</td>\n",
       "      <td>6.460560e+08</td>\n",
       "    </tr>\n",
       "    <tr>\n",
       "      <th>2</th>\n",
       "      <td>isin0</td>\n",
       "      <td>1.458239e+09</td>\n",
       "      <td>0</td>\n",
       "      <td>1</td>\n",
       "      <td>0</td>\n",
       "      <td>0</td>\n",
       "      <td>3480</td>\n",
       "      <td>2</td>\n",
       "      <td>183260000</td>\n",
       "      <td>183260000</td>\n",
       "      <td>...</td>\n",
       "      <td>0</td>\n",
       "      <td>0</td>\n",
       "      <td>0</td>\n",
       "      <td>0</td>\n",
       "      <td>1.323283e+09</td>\n",
       "      <td>83.147486</td>\n",
       "      <td>3.849208</td>\n",
       "      <td>5</td>\n",
       "      <td>9.703312e+08</td>\n",
       "      <td>6.460560e+08</td>\n",
       "    </tr>\n",
       "    <tr>\n",
       "      <th>3</th>\n",
       "      <td>isin0</td>\n",
       "      <td>1.458239e+09</td>\n",
       "      <td>1</td>\n",
       "      <td>0</td>\n",
       "      <td>0</td>\n",
       "      <td>0</td>\n",
       "      <td>3480</td>\n",
       "      <td>2</td>\n",
       "      <td>183260000</td>\n",
       "      <td>183260000</td>\n",
       "      <td>...</td>\n",
       "      <td>0</td>\n",
       "      <td>0</td>\n",
       "      <td>0</td>\n",
       "      <td>0</td>\n",
       "      <td>1.323283e+09</td>\n",
       "      <td>83.147486</td>\n",
       "      <td>3.849208</td>\n",
       "      <td>5</td>\n",
       "      <td>9.703312e+08</td>\n",
       "      <td>6.460560e+08</td>\n",
       "    </tr>\n",
       "    <tr>\n",
       "      <th>4</th>\n",
       "      <td>isin0</td>\n",
       "      <td>1.463078e+09</td>\n",
       "      <td>0</td>\n",
       "      <td>0</td>\n",
       "      <td>3870000</td>\n",
       "      <td>0</td>\n",
       "      <td>3480</td>\n",
       "      <td>2</td>\n",
       "      <td>183260000</td>\n",
       "      <td>183260000</td>\n",
       "      <td>...</td>\n",
       "      <td>0</td>\n",
       "      <td>0</td>\n",
       "      <td>0</td>\n",
       "      <td>0</td>\n",
       "      <td>1.323283e+09</td>\n",
       "      <td>83.147486</td>\n",
       "      <td>3.849208</td>\n",
       "      <td>5</td>\n",
       "      <td>9.703312e+08</td>\n",
       "      <td>6.460560e+08</td>\n",
       "    </tr>\n",
       "  </tbody>\n",
       "</table>\n",
       "<p>5 rows × 31 columns</p>\n",
       "</div>"
      ],
      "text/plain": [
       "    isin          date  side  timeofday   volume  weekday  issuer  Market  \\\n",
       "0  isin0  1.458239e+09     0          0  3900000        0    3480       2   \n",
       "1  isin0  1.458239e+09     1          1  7800000        0    3480       2   \n",
       "2  isin0  1.458239e+09     0          1        0        0    3480       2   \n",
       "3  isin0  1.458239e+09     1          0        0        0    3480       2   \n",
       "4  isin0  1.463078e+09     0          0  3870000        0    3480       2   \n",
       "\n",
       "   amtIssued  amtOutstanding      ...       ratingAgency1Rating  \\\n",
       "0  183260000       183260000      ...                         0   \n",
       "1  183260000       183260000      ...                         0   \n",
       "2  183260000       183260000      ...                         0   \n",
       "3  183260000       183260000      ...                         0   \n",
       "4  183260000       183260000      ...                         0   \n",
       "\n",
       "   ratingAgency1Watch  ratingAgency2Rating  ratingAgency2Watch    issue date  \\\n",
       "0                   0                    0                   0  1.323283e+09   \n",
       "1                   0                    0                   0  1.323283e+09   \n",
       "2                   0                    0                   0  1.323283e+09   \n",
       "3                   0                    0                   0  1.323283e+09   \n",
       "4                   0                    0                   0  1.323283e+09   \n",
       "\n",
       "   price_mean  price_std  trade_days      cat_sell       cat_buy  \n",
       "0   83.147486   3.849208           5  9.703312e+08  6.460560e+08  \n",
       "1   83.147486   3.849208           5  9.703312e+08  6.460560e+08  \n",
       "2   83.147486   3.849208           5  9.703312e+08  6.460560e+08  \n",
       "3   83.147486   3.849208           5  9.703312e+08  6.460560e+08  \n",
       "4   83.147486   3.849208           5  9.703312e+08  6.460560e+08  \n",
       "\n",
       "[5 rows x 31 columns]"
      ]
     },
     "execution_count": 84,
     "metadata": {},
     "output_type": "execute_result"
    }
   ],
   "source": [
    "mrg_data.head()"
   ]
  },
  {
   "cell_type": "code",
   "execution_count": 85,
   "metadata": {
    "collapsed": false
   },
   "outputs": [
    {
     "data": {
      "text/html": [
       "<div>\n",
       "<table border=\"1\" class=\"dataframe\">\n",
       "  <thead>\n",
       "    <tr style=\"text-align: right;\">\n",
       "      <th></th>\n",
       "      <th>isin</th>\n",
       "      <th>date</th>\n",
       "      <th>side</th>\n",
       "      <th>timeofday</th>\n",
       "      <th>volume</th>\n",
       "      <th>weekday</th>\n",
       "      <th>issuer</th>\n",
       "      <th>Market</th>\n",
       "      <th>amtIssued</th>\n",
       "      <th>amtOutstanding</th>\n",
       "      <th>...</th>\n",
       "      <th>ratingAgency1Rating</th>\n",
       "      <th>ratingAgency1Watch</th>\n",
       "      <th>ratingAgency2Rating</th>\n",
       "      <th>ratingAgency2Watch</th>\n",
       "      <th>price_mean</th>\n",
       "      <th>price_std</th>\n",
       "      <th>trade_days</th>\n",
       "      <th>cat_sell</th>\n",
       "      <th>cat_buy</th>\n",
       "      <th>diff_issue_date</th>\n",
       "    </tr>\n",
       "  </thead>\n",
       "  <tbody>\n",
       "    <tr>\n",
       "      <th>0</th>\n",
       "      <td>isin0</td>\n",
       "      <td>1.458239e+09</td>\n",
       "      <td>0</td>\n",
       "      <td>0</td>\n",
       "      <td>3900000</td>\n",
       "      <td>0</td>\n",
       "      <td>3480</td>\n",
       "      <td>2</td>\n",
       "      <td>183260000</td>\n",
       "      <td>183260000</td>\n",
       "      <td>...</td>\n",
       "      <td>0</td>\n",
       "      <td>0</td>\n",
       "      <td>0</td>\n",
       "      <td>0</td>\n",
       "      <td>83.147486</td>\n",
       "      <td>3.849208</td>\n",
       "      <td>5</td>\n",
       "      <td>9.703312e+08</td>\n",
       "      <td>6.460560e+08</td>\n",
       "      <td>134956800.0</td>\n",
       "    </tr>\n",
       "    <tr>\n",
       "      <th>1</th>\n",
       "      <td>isin0</td>\n",
       "      <td>1.458239e+09</td>\n",
       "      <td>1</td>\n",
       "      <td>1</td>\n",
       "      <td>7800000</td>\n",
       "      <td>0</td>\n",
       "      <td>3480</td>\n",
       "      <td>2</td>\n",
       "      <td>183260000</td>\n",
       "      <td>183260000</td>\n",
       "      <td>...</td>\n",
       "      <td>0</td>\n",
       "      <td>0</td>\n",
       "      <td>0</td>\n",
       "      <td>0</td>\n",
       "      <td>83.147486</td>\n",
       "      <td>3.849208</td>\n",
       "      <td>5</td>\n",
       "      <td>9.703312e+08</td>\n",
       "      <td>6.460560e+08</td>\n",
       "      <td>134956800.0</td>\n",
       "    </tr>\n",
       "    <tr>\n",
       "      <th>2</th>\n",
       "      <td>isin0</td>\n",
       "      <td>1.458239e+09</td>\n",
       "      <td>0</td>\n",
       "      <td>1</td>\n",
       "      <td>0</td>\n",
       "      <td>0</td>\n",
       "      <td>3480</td>\n",
       "      <td>2</td>\n",
       "      <td>183260000</td>\n",
       "      <td>183260000</td>\n",
       "      <td>...</td>\n",
       "      <td>0</td>\n",
       "      <td>0</td>\n",
       "      <td>0</td>\n",
       "      <td>0</td>\n",
       "      <td>83.147486</td>\n",
       "      <td>3.849208</td>\n",
       "      <td>5</td>\n",
       "      <td>9.703312e+08</td>\n",
       "      <td>6.460560e+08</td>\n",
       "      <td>134956800.0</td>\n",
       "    </tr>\n",
       "    <tr>\n",
       "      <th>3</th>\n",
       "      <td>isin0</td>\n",
       "      <td>1.458239e+09</td>\n",
       "      <td>1</td>\n",
       "      <td>0</td>\n",
       "      <td>0</td>\n",
       "      <td>0</td>\n",
       "      <td>3480</td>\n",
       "      <td>2</td>\n",
       "      <td>183260000</td>\n",
       "      <td>183260000</td>\n",
       "      <td>...</td>\n",
       "      <td>0</td>\n",
       "      <td>0</td>\n",
       "      <td>0</td>\n",
       "      <td>0</td>\n",
       "      <td>83.147486</td>\n",
       "      <td>3.849208</td>\n",
       "      <td>5</td>\n",
       "      <td>9.703312e+08</td>\n",
       "      <td>6.460560e+08</td>\n",
       "      <td>134956800.0</td>\n",
       "    </tr>\n",
       "    <tr>\n",
       "      <th>4</th>\n",
       "      <td>isin0</td>\n",
       "      <td>1.463078e+09</td>\n",
       "      <td>0</td>\n",
       "      <td>0</td>\n",
       "      <td>3870000</td>\n",
       "      <td>0</td>\n",
       "      <td>3480</td>\n",
       "      <td>2</td>\n",
       "      <td>183260000</td>\n",
       "      <td>183260000</td>\n",
       "      <td>...</td>\n",
       "      <td>0</td>\n",
       "      <td>0</td>\n",
       "      <td>0</td>\n",
       "      <td>0</td>\n",
       "      <td>83.147486</td>\n",
       "      <td>3.849208</td>\n",
       "      <td>5</td>\n",
       "      <td>9.703312e+08</td>\n",
       "      <td>6.460560e+08</td>\n",
       "      <td>139795200.0</td>\n",
       "    </tr>\n",
       "  </tbody>\n",
       "</table>\n",
       "<p>5 rows × 31 columns</p>\n",
       "</div>"
      ],
      "text/plain": [
       "    isin          date  side  timeofday   volume  weekday  issuer  Market  \\\n",
       "0  isin0  1.458239e+09     0          0  3900000        0    3480       2   \n",
       "1  isin0  1.458239e+09     1          1  7800000        0    3480       2   \n",
       "2  isin0  1.458239e+09     0          1        0        0    3480       2   \n",
       "3  isin0  1.458239e+09     1          0        0        0    3480       2   \n",
       "4  isin0  1.463078e+09     0          0  3870000        0    3480       2   \n",
       "\n",
       "   amtIssued  amtOutstanding       ...         ratingAgency1Rating  \\\n",
       "0  183260000       183260000       ...                           0   \n",
       "1  183260000       183260000       ...                           0   \n",
       "2  183260000       183260000       ...                           0   \n",
       "3  183260000       183260000       ...                           0   \n",
       "4  183260000       183260000       ...                           0   \n",
       "\n",
       "   ratingAgency1Watch  ratingAgency2Rating  ratingAgency2Watch  price_mean  \\\n",
       "0                   0                    0                   0   83.147486   \n",
       "1                   0                    0                   0   83.147486   \n",
       "2                   0                    0                   0   83.147486   \n",
       "3                   0                    0                   0   83.147486   \n",
       "4                   0                    0                   0   83.147486   \n",
       "\n",
       "   price_std  trade_days      cat_sell       cat_buy  diff_issue_date  \n",
       "0   3.849208           5  9.703312e+08  6.460560e+08      134956800.0  \n",
       "1   3.849208           5  9.703312e+08  6.460560e+08      134956800.0  \n",
       "2   3.849208           5  9.703312e+08  6.460560e+08      134956800.0  \n",
       "3   3.849208           5  9.703312e+08  6.460560e+08      134956800.0  \n",
       "4   3.849208           5  9.703312e+08  6.460560e+08      139795200.0  \n",
       "\n",
       "[5 rows x 31 columns]"
      ]
     },
     "execution_count": 85,
     "metadata": {},
     "output_type": "execute_result"
    }
   ],
   "source": [
    "mrg_data[\"diff_issue_date\"] = mrg_data[\"date\"] - mrg_data[\"issue date\"] \n",
    "mrg_data = mrg_data.drop(\"issue date\", axis = 1)\n",
    "mrg_data.head()"
   ]
  },
  {
   "cell_type": "code",
   "execution_count": 86,
   "metadata": {
    "collapsed": false
   },
   "outputs": [
    {
     "data": {
      "text/plain": [
       "(4211684, 31)"
      ]
     },
     "execution_count": 86,
     "metadata": {},
     "output_type": "execute_result"
    }
   ],
   "source": [
    "mrg_data.shape"
   ]
  },
  {
   "cell_type": "code",
   "execution_count": 87,
   "metadata": {
    "collapsed": true
   },
   "outputs": [],
   "source": [
    "train_Y = mrg_data[\"volume\"]\n",
    "drop_col = [\"isin\", \"volume\"]\n",
    "train_X = mrg_data.drop(drop_col, axis = 1)"
   ]
  },
  {
   "cell_type": "markdown",
   "metadata": {},
   "source": [
    "## -----------------------------------------------------------------"
   ]
  },
  {
   "cell_type": "markdown",
   "metadata": {},
   "source": [
    "### Creating the test dataset for 10th, 13th, 14th June."
   ]
  },
  {
   "cell_type": "code",
   "execution_count": 42,
   "metadata": {
    "collapsed": false
   },
   "outputs": [
    {
     "data": {
      "text/plain": [
       "12"
      ]
     },
     "execution_count": 42,
     "metadata": {},
     "output_type": "execute_result"
    }
   ],
   "source": [
    "dates = []\n",
    "date_epoch = []\n",
    "dates.append(\"10Jun2016\")\n",
    "dates.append(\"13Jun2016\")\n",
    "dates.append(\"14Jun2016\")\n",
    "for x in dates:\n",
    "    epoch = datetime.strptime(x, '%d%b%Y')\n",
    "    date_epoch.append(epoch.timestamp())\n",
    "date_epoch = date_epoch + date_epoch\n",
    "date_epoch = date_epoch + date_epoch\n",
    "side = [0, 0, 0, 1, 1, 1]\n",
    "side = side + side\n",
    "timeofday = [0, 0, 0, 0, 0, 0, 1, 1, 1, 1, 1, 1]\n",
    "len(date_epoch)"
   ]
  },
  {
   "cell_type": "code",
   "execution_count": 43,
   "metadata": {
    "collapsed": false
   },
   "outputs": [],
   "source": [
    "bond_num = list(meta_data[\"isin\"])\n",
    "head_tmp = [\"isin\", \"date\", \"side\", \"timeofday\"]\n",
    "df_list = []\n",
    "for x in bond_num:\n",
    "    tmp_df = pd.DataFrame(index = np.arange(12))\n",
    "    tmp_df[\"isin\"] = x\n",
    "    tmp_df[\"date\"] = date_epoch\n",
    "    tmp_df[\"side\"] = side\n",
    "    tmp_df[\"timeofday\"] = timeofday\n",
    "    df_list.append(tmp_df)\n",
    "main_df = pd.concat(df_list)\n",
    "test = main_df"
   ]
  },
  {
   "cell_type": "code",
   "execution_count": 44,
   "metadata": {
    "collapsed": true
   },
   "outputs": [],
   "source": [
    "le = LabelEncoder()\n",
    "test[\"weekday\"] = test[\"date\"].apply(lambda x: ep_to_day(x))\n",
    "test[\"weekday\"] = le.fit_transform(test[\"weekday\"])"
   ]
  },
  {
   "cell_type": "code",
   "execution_count": 45,
   "metadata": {
    "collapsed": false
   },
   "outputs": [
    {
     "data": {
      "text/html": [
       "<div>\n",
       "<table border=\"1\" class=\"dataframe\">\n",
       "  <thead>\n",
       "    <tr style=\"text-align: right;\">\n",
       "      <th></th>\n",
       "      <th>isin</th>\n",
       "      <th>date</th>\n",
       "      <th>side</th>\n",
       "      <th>timeofday</th>\n",
       "      <th>weekday</th>\n",
       "      <th>issuer</th>\n",
       "      <th>Market</th>\n",
       "      <th>amtIssued</th>\n",
       "      <th>amtOutstanding</th>\n",
       "      <th>collateralType</th>\n",
       "      <th>...</th>\n",
       "      <th>ratingAgency1Rating</th>\n",
       "      <th>ratingAgency1Watch</th>\n",
       "      <th>ratingAgency2Rating</th>\n",
       "      <th>ratingAgency2Watch</th>\n",
       "      <th>price_mean</th>\n",
       "      <th>price_std</th>\n",
       "      <th>trade_days</th>\n",
       "      <th>cat_sell</th>\n",
       "      <th>cat_buy</th>\n",
       "      <th>diff_issue_date</th>\n",
       "    </tr>\n",
       "  </thead>\n",
       "  <tbody>\n",
       "    <tr>\n",
       "      <th>0</th>\n",
       "      <td>isin0</td>\n",
       "      <td>1.465497e+09</td>\n",
       "      <td>0</td>\n",
       "      <td>0</td>\n",
       "      <td>0</td>\n",
       "      <td>3480</td>\n",
       "      <td>2</td>\n",
       "      <td>183260000</td>\n",
       "      <td>183260000</td>\n",
       "      <td>11</td>\n",
       "      <td>...</td>\n",
       "      <td>0</td>\n",
       "      <td>0</td>\n",
       "      <td>0</td>\n",
       "      <td>0</td>\n",
       "      <td>83.147486</td>\n",
       "      <td>3.849208</td>\n",
       "      <td>5</td>\n",
       "      <td>9.703312e+08</td>\n",
       "      <td>6.460560e+08</td>\n",
       "      <td>142214400.0</td>\n",
       "    </tr>\n",
       "    <tr>\n",
       "      <th>1</th>\n",
       "      <td>isin0</td>\n",
       "      <td>1.465756e+09</td>\n",
       "      <td>0</td>\n",
       "      <td>0</td>\n",
       "      <td>1</td>\n",
       "      <td>3480</td>\n",
       "      <td>2</td>\n",
       "      <td>183260000</td>\n",
       "      <td>183260000</td>\n",
       "      <td>11</td>\n",
       "      <td>...</td>\n",
       "      <td>0</td>\n",
       "      <td>0</td>\n",
       "      <td>0</td>\n",
       "      <td>0</td>\n",
       "      <td>83.147486</td>\n",
       "      <td>3.849208</td>\n",
       "      <td>5</td>\n",
       "      <td>9.703312e+08</td>\n",
       "      <td>6.460560e+08</td>\n",
       "      <td>142473600.0</td>\n",
       "    </tr>\n",
       "    <tr>\n",
       "      <th>2</th>\n",
       "      <td>isin0</td>\n",
       "      <td>1.465843e+09</td>\n",
       "      <td>0</td>\n",
       "      <td>0</td>\n",
       "      <td>2</td>\n",
       "      <td>3480</td>\n",
       "      <td>2</td>\n",
       "      <td>183260000</td>\n",
       "      <td>183260000</td>\n",
       "      <td>11</td>\n",
       "      <td>...</td>\n",
       "      <td>0</td>\n",
       "      <td>0</td>\n",
       "      <td>0</td>\n",
       "      <td>0</td>\n",
       "      <td>83.147486</td>\n",
       "      <td>3.849208</td>\n",
       "      <td>5</td>\n",
       "      <td>9.703312e+08</td>\n",
       "      <td>6.460560e+08</td>\n",
       "      <td>142560000.0</td>\n",
       "    </tr>\n",
       "    <tr>\n",
       "      <th>3</th>\n",
       "      <td>isin0</td>\n",
       "      <td>1.465497e+09</td>\n",
       "      <td>1</td>\n",
       "      <td>0</td>\n",
       "      <td>0</td>\n",
       "      <td>3480</td>\n",
       "      <td>2</td>\n",
       "      <td>183260000</td>\n",
       "      <td>183260000</td>\n",
       "      <td>11</td>\n",
       "      <td>...</td>\n",
       "      <td>0</td>\n",
       "      <td>0</td>\n",
       "      <td>0</td>\n",
       "      <td>0</td>\n",
       "      <td>83.147486</td>\n",
       "      <td>3.849208</td>\n",
       "      <td>5</td>\n",
       "      <td>9.703312e+08</td>\n",
       "      <td>6.460560e+08</td>\n",
       "      <td>142214400.0</td>\n",
       "    </tr>\n",
       "    <tr>\n",
       "      <th>4</th>\n",
       "      <td>isin0</td>\n",
       "      <td>1.465756e+09</td>\n",
       "      <td>1</td>\n",
       "      <td>0</td>\n",
       "      <td>1</td>\n",
       "      <td>3480</td>\n",
       "      <td>2</td>\n",
       "      <td>183260000</td>\n",
       "      <td>183260000</td>\n",
       "      <td>11</td>\n",
       "      <td>...</td>\n",
       "      <td>0</td>\n",
       "      <td>0</td>\n",
       "      <td>0</td>\n",
       "      <td>0</td>\n",
       "      <td>83.147486</td>\n",
       "      <td>3.849208</td>\n",
       "      <td>5</td>\n",
       "      <td>9.703312e+08</td>\n",
       "      <td>6.460560e+08</td>\n",
       "      <td>142473600.0</td>\n",
       "    </tr>\n",
       "  </tbody>\n",
       "</table>\n",
       "<p>5 rows × 30 columns</p>\n",
       "</div>"
      ],
      "text/plain": [
       "    isin          date  side  timeofday  weekday  issuer  Market  amtIssued  \\\n",
       "0  isin0  1.465497e+09     0          0        0    3480       2  183260000   \n",
       "1  isin0  1.465756e+09     0          0        1    3480       2  183260000   \n",
       "2  isin0  1.465843e+09     0          0        2    3480       2  183260000   \n",
       "3  isin0  1.465497e+09     1          0        0    3480       2  183260000   \n",
       "4  isin0  1.465756e+09     1          0        1    3480       2  183260000   \n",
       "\n",
       "   amtOutstanding  collateralType       ...         ratingAgency1Rating  \\\n",
       "0       183260000              11       ...                           0   \n",
       "1       183260000              11       ...                           0   \n",
       "2       183260000              11       ...                           0   \n",
       "3       183260000              11       ...                           0   \n",
       "4       183260000              11       ...                           0   \n",
       "\n",
       "   ratingAgency1Watch  ratingAgency2Rating  ratingAgency2Watch  price_mean  \\\n",
       "0                   0                    0                   0   83.147486   \n",
       "1                   0                    0                   0   83.147486   \n",
       "2                   0                    0                   0   83.147486   \n",
       "3                   0                    0                   0   83.147486   \n",
       "4                   0                    0                   0   83.147486   \n",
       "\n",
       "   price_std  trade_days      cat_sell       cat_buy  diff_issue_date  \n",
       "0   3.849208           5  9.703312e+08  6.460560e+08      142214400.0  \n",
       "1   3.849208           5  9.703312e+08  6.460560e+08      142473600.0  \n",
       "2   3.849208           5  9.703312e+08  6.460560e+08      142560000.0  \n",
       "3   3.849208           5  9.703312e+08  6.460560e+08      142214400.0  \n",
       "4   3.849208           5  9.703312e+08  6.460560e+08      142473600.0  \n",
       "\n",
       "[5 rows x 30 columns]"
      ]
     },
     "execution_count": 45,
     "metadata": {},
     "output_type": "execute_result"
    }
   ],
   "source": [
    "mrg_test_data = test.merge(meta_data_2_tmp,on='isin')\n",
    "mrg_test_data[\"diff_issue_date\"] = mrg_test_data[\"date\"] - mrg_test_data[\"issue date\"] \n",
    "mrg_test_data = mrg_test_data.drop(\"issue date\", axis = 1)\n",
    "mrg_test_data.head()"
   ]
  },
  {
   "cell_type": "code",
   "execution_count": 46,
   "metadata": {
    "collapsed": false
   },
   "outputs": [],
   "source": [
    "test_X = mrg_test_data.drop(\"isin\", axis = 1)"
   ]
  },
  {
   "cell_type": "code",
   "execution_count": 47,
   "metadata": {
    "collapsed": false
   },
   "outputs": [
    {
     "data": {
      "text/plain": [
       "array(['date', 'side', 'timeofday', 'weekday', 'issuer', 'Market',\n",
       "       'amtIssued', 'amtOutstanding', 'collateralType', 'coupon',\n",
       "       'couponFrequency', 'couponType', 'industryGroup', 'industrySector',\n",
       "       'industrySubgroup', 'maturityType', 'securityType', 'paymentRank',\n",
       "       '144aFlag', 'ratingAgency1Rating', 'ratingAgency1Watch',\n",
       "       'ratingAgency2Rating', 'ratingAgency2Watch', 'price_mean',\n",
       "       'price_std', 'trade_days', 'cat_sell', 'cat_buy', 'diff_issue_date'], dtype=object)"
      ]
     },
     "execution_count": 47,
     "metadata": {},
     "output_type": "execute_result"
    }
   ],
   "source": [
    "test_X.columns.values"
   ]
  },
  {
   "cell_type": "markdown",
   "metadata": {},
   "source": [
    "## --------------------------------------------------"
   ]
  },
  {
   "cell_type": "markdown",
   "metadata": {
    "collapsed": false
   },
   "source": [
    "### XGBoost Model"
   ]
  },
  {
   "cell_type": "code",
   "execution_count": 88,
   "metadata": {
    "collapsed": false,
    "scrolled": false
   },
   "outputs": [
    {
     "name": "stdout",
     "output_type": "stream",
     "text": [
      "[0]\tdtrain-rmse:2.1341e+06\teval-rmse:2.11612e+06\n",
      "[1]\tdtrain-rmse:2.10343e+06\teval-rmse:2.08613e+06\n",
      "[2]\tdtrain-rmse:2.07802e+06\teval-rmse:2.06128e+06\n",
      "[3]\tdtrain-rmse:2.05717e+06\teval-rmse:2.04077e+06\n",
      "[4]\tdtrain-rmse:2.03997e+06\teval-rmse:2.02383e+06\n",
      "[5]\tdtrain-rmse:2.02567e+06\teval-rmse:2.00959e+06\n",
      "[6]\tdtrain-rmse:2.01356e+06\teval-rmse:1.99801e+06\n",
      "[7]\tdtrain-rmse:2.00381e+06\teval-rmse:1.98816e+06\n",
      "[8]\tdtrain-rmse:1.99505e+06\teval-rmse:1.97984e+06\n",
      "[9]\tdtrain-rmse:1.98844e+06\teval-rmse:1.97306e+06\n",
      "[10]\tdtrain-rmse:1.98205e+06\teval-rmse:1.96699e+06\n",
      "[11]\tdtrain-rmse:1.97638e+06\teval-rmse:1.96173e+06\n",
      "[12]\tdtrain-rmse:1.97091e+06\teval-rmse:1.9567e+06\n",
      "[13]\tdtrain-rmse:1.96716e+06\teval-rmse:1.95284e+06\n",
      "[14]\tdtrain-rmse:1.96385e+06\teval-rmse:1.94964e+06\n",
      "[15]\tdtrain-rmse:1.96092e+06\teval-rmse:1.94689e+06\n",
      "[16]\tdtrain-rmse:1.95817e+06\teval-rmse:1.94441e+06\n",
      "[17]\tdtrain-rmse:1.9553e+06\teval-rmse:1.94104e+06\n",
      "[18]\tdtrain-rmse:1.95314e+06\teval-rmse:1.93912e+06\n",
      "[19]\tdtrain-rmse:1.95078e+06\teval-rmse:1.93674e+06\n",
      "[20]\tdtrain-rmse:1.94921e+06\teval-rmse:1.93521e+06\n",
      "[21]\tdtrain-rmse:1.94759e+06\teval-rmse:1.93374e+06\n",
      "[22]\tdtrain-rmse:1.94605e+06\teval-rmse:1.93201e+06\n",
      "[23]\tdtrain-rmse:1.94477e+06\teval-rmse:1.93035e+06\n",
      "[24]\tdtrain-rmse:1.94319e+06\teval-rmse:1.92839e+06\n",
      "[25]\tdtrain-rmse:1.94222e+06\teval-rmse:1.92703e+06\n",
      "[26]\tdtrain-rmse:1.94048e+06\teval-rmse:1.92593e+06\n",
      "[27]\tdtrain-rmse:1.93923e+06\teval-rmse:1.92521e+06\n",
      "[28]\tdtrain-rmse:1.93852e+06\teval-rmse:1.92413e+06\n",
      "[29]\tdtrain-rmse:1.93653e+06\teval-rmse:1.92274e+06\n",
      "[30]\tdtrain-rmse:1.93545e+06\teval-rmse:1.92176e+06\n",
      "[31]\tdtrain-rmse:1.93328e+06\teval-rmse:1.92041e+06\n",
      "[32]\tdtrain-rmse:1.93256e+06\teval-rmse:1.91983e+06\n",
      "[33]\tdtrain-rmse:1.93162e+06\teval-rmse:1.91912e+06\n",
      "[34]\tdtrain-rmse:1.93002e+06\teval-rmse:1.91817e+06\n",
      "[35]\tdtrain-rmse:1.92786e+06\teval-rmse:1.9161e+06\n",
      "[36]\tdtrain-rmse:1.92636e+06\teval-rmse:1.91479e+06\n",
      "[37]\tdtrain-rmse:1.92584e+06\teval-rmse:1.91414e+06\n",
      "[38]\tdtrain-rmse:1.92426e+06\teval-rmse:1.91256e+06\n",
      "[39]\tdtrain-rmse:1.92363e+06\teval-rmse:1.91161e+06\n",
      "[40]\tdtrain-rmse:1.92202e+06\teval-rmse:1.90987e+06\n",
      "[41]\tdtrain-rmse:1.92147e+06\teval-rmse:1.90925e+06\n",
      "[42]\tdtrain-rmse:1.92062e+06\teval-rmse:1.90823e+06\n",
      "[43]\tdtrain-rmse:1.91956e+06\teval-rmse:1.90762e+06\n",
      "[44]\tdtrain-rmse:1.91872e+06\teval-rmse:1.90703e+06\n",
      "[45]\tdtrain-rmse:1.91796e+06\teval-rmse:1.90613e+06\n",
      "[46]\tdtrain-rmse:1.91705e+06\teval-rmse:1.90534e+06\n",
      "[47]\tdtrain-rmse:1.91564e+06\teval-rmse:1.90303e+06\n",
      "[48]\tdtrain-rmse:1.9141e+06\teval-rmse:1.90071e+06\n",
      "[49]\tdtrain-rmse:1.91183e+06\teval-rmse:1.89877e+06\n",
      "[50]\tdtrain-rmse:1.91111e+06\teval-rmse:1.89809e+06\n",
      "[51]\tdtrain-rmse:1.90929e+06\teval-rmse:1.89622e+06\n",
      "[52]\tdtrain-rmse:1.90888e+06\teval-rmse:1.89584e+06\n",
      "[53]\tdtrain-rmse:1.9083e+06\teval-rmse:1.89537e+06\n",
      "[54]\tdtrain-rmse:1.90671e+06\teval-rmse:1.894e+06\n",
      "[55]\tdtrain-rmse:1.90559e+06\teval-rmse:1.89295e+06\n",
      "[56]\tdtrain-rmse:1.90525e+06\teval-rmse:1.89266e+06\n",
      "[57]\tdtrain-rmse:1.90355e+06\teval-rmse:1.89163e+06\n",
      "[58]\tdtrain-rmse:1.90325e+06\teval-rmse:1.89133e+06\n",
      "[59]\tdtrain-rmse:1.90228e+06\teval-rmse:1.89103e+06\n",
      "[60]\tdtrain-rmse:1.90147e+06\teval-rmse:1.89052e+06\n",
      "[61]\tdtrain-rmse:1.9e+06\teval-rmse:1.88994e+06\n",
      "[62]\tdtrain-rmse:1.89919e+06\teval-rmse:1.8892e+06\n",
      "[63]\tdtrain-rmse:1.89801e+06\teval-rmse:1.88884e+06\n",
      "[64]\tdtrain-rmse:1.89763e+06\teval-rmse:1.88836e+06\n",
      "[65]\tdtrain-rmse:1.89704e+06\teval-rmse:1.88802e+06\n",
      "[66]\tdtrain-rmse:1.89656e+06\teval-rmse:1.88716e+06\n",
      "[67]\tdtrain-rmse:1.89573e+06\teval-rmse:1.88689e+06\n",
      "[68]\tdtrain-rmse:1.89549e+06\teval-rmse:1.88666e+06\n",
      "[69]\tdtrain-rmse:1.89504e+06\teval-rmse:1.88652e+06\n",
      "[70]\tdtrain-rmse:1.89448e+06\teval-rmse:1.886e+06\n",
      "[71]\tdtrain-rmse:1.894e+06\teval-rmse:1.88579e+06\n",
      "[72]\tdtrain-rmse:1.89328e+06\teval-rmse:1.88528e+06\n",
      "[73]\tdtrain-rmse:1.89226e+06\teval-rmse:1.8836e+06\n",
      "[74]\tdtrain-rmse:1.89198e+06\teval-rmse:1.88344e+06\n",
      "[75]\tdtrain-rmse:1.88742e+06\teval-rmse:1.88278e+06\n",
      "[76]\tdtrain-rmse:1.8872e+06\teval-rmse:1.88249e+06\n",
      "[77]\tdtrain-rmse:1.88489e+06\teval-rmse:1.87945e+06\n",
      "[78]\tdtrain-rmse:1.88456e+06\teval-rmse:1.87921e+06\n",
      "[79]\tdtrain-rmse:1.88261e+06\teval-rmse:1.87729e+06\n",
      "[80]\tdtrain-rmse:1.88241e+06\teval-rmse:1.87714e+06\n",
      "[81]\tdtrain-rmse:1.88201e+06\teval-rmse:1.87566e+06\n",
      "[82]\tdtrain-rmse:1.88159e+06\teval-rmse:1.87528e+06\n",
      "[83]\tdtrain-rmse:1.88124e+06\teval-rmse:1.87517e+06\n",
      "[84]\tdtrain-rmse:1.88093e+06\teval-rmse:1.87484e+06\n",
      "[85]\tdtrain-rmse:1.88035e+06\teval-rmse:1.87166e+06\n",
      "[86]\tdtrain-rmse:1.88005e+06\teval-rmse:1.87138e+06\n",
      "[87]\tdtrain-rmse:1.8798e+06\teval-rmse:1.87116e+06\n",
      "[88]\tdtrain-rmse:1.87797e+06\teval-rmse:1.87047e+06\n",
      "[89]\tdtrain-rmse:1.87624e+06\teval-rmse:1.86877e+06\n",
      "[90]\tdtrain-rmse:1.8759e+06\teval-rmse:1.86843e+06\n",
      "[91]\tdtrain-rmse:1.8757e+06\teval-rmse:1.86823e+06\n",
      "[92]\tdtrain-rmse:1.87512e+06\teval-rmse:1.86778e+06\n",
      "[93]\tdtrain-rmse:1.87474e+06\teval-rmse:1.86749e+06\n",
      "[94]\tdtrain-rmse:1.87193e+06\teval-rmse:1.86409e+06\n",
      "[95]\tdtrain-rmse:1.87165e+06\teval-rmse:1.86362e+06\n",
      "[96]\tdtrain-rmse:1.87102e+06\teval-rmse:1.8629e+06\n",
      "[97]\tdtrain-rmse:1.87063e+06\teval-rmse:1.86248e+06\n",
      "[98]\tdtrain-rmse:1.87035e+06\teval-rmse:1.86211e+06\n",
      "[99]\tdtrain-rmse:1.87011e+06\teval-rmse:1.86172e+06\n",
      "[100]\tdtrain-rmse:1.86848e+06\teval-rmse:1.86086e+06\n",
      "[101]\tdtrain-rmse:1.86819e+06\teval-rmse:1.86066e+06\n",
      "[102]\tdtrain-rmse:1.868e+06\teval-rmse:1.86047e+06\n",
      "[103]\tdtrain-rmse:1.86773e+06\teval-rmse:1.86013e+06\n",
      "[104]\tdtrain-rmse:1.86703e+06\teval-rmse:1.85954e+06\n",
      "[105]\tdtrain-rmse:1.86678e+06\teval-rmse:1.85928e+06\n",
      "[106]\tdtrain-rmse:1.86619e+06\teval-rmse:1.85866e+06\n",
      "[107]\tdtrain-rmse:1.86363e+06\teval-rmse:1.85627e+06\n",
      "[108]\tdtrain-rmse:1.86272e+06\teval-rmse:1.85567e+06\n",
      "[109]\tdtrain-rmse:1.86255e+06\teval-rmse:1.85535e+06\n",
      "[110]\tdtrain-rmse:1.86218e+06\teval-rmse:1.85525e+06\n",
      "[111]\tdtrain-rmse:1.86182e+06\teval-rmse:1.8542e+06\n",
      "[112]\tdtrain-rmse:1.8616e+06\teval-rmse:1.85385e+06\n",
      "[113]\tdtrain-rmse:1.8615e+06\teval-rmse:1.85372e+06\n",
      "[114]\tdtrain-rmse:1.86114e+06\teval-rmse:1.85365e+06\n",
      "[115]\tdtrain-rmse:1.8608e+06\teval-rmse:1.85344e+06\n",
      "[116]\tdtrain-rmse:1.86031e+06\teval-rmse:1.85238e+06\n",
      "[117]\tdtrain-rmse:1.85968e+06\teval-rmse:1.85223e+06\n",
      "[118]\tdtrain-rmse:1.85887e+06\teval-rmse:1.85196e+06\n",
      "[119]\tdtrain-rmse:1.85867e+06\teval-rmse:1.85171e+06\n",
      "[120]\tdtrain-rmse:1.85813e+06\teval-rmse:1.85119e+06\n",
      "[121]\tdtrain-rmse:1.85727e+06\teval-rmse:1.85069e+06\n",
      "[122]\tdtrain-rmse:1.85677e+06\teval-rmse:1.85017e+06\n",
      "[123]\tdtrain-rmse:1.85638e+06\teval-rmse:1.84998e+06\n",
      "[124]\tdtrain-rmse:1.85622e+06\teval-rmse:1.84983e+06\n",
      "[125]\tdtrain-rmse:1.85585e+06\teval-rmse:1.84934e+06\n",
      "[126]\tdtrain-rmse:1.85566e+06\teval-rmse:1.84921e+06\n",
      "[127]\tdtrain-rmse:1.85519e+06\teval-rmse:1.84881e+06\n",
      "[128]\tdtrain-rmse:1.85499e+06\teval-rmse:1.84863e+06\n",
      "[129]\tdtrain-rmse:1.85487e+06\teval-rmse:1.8485e+06\n",
      "[130]\tdtrain-rmse:1.85423e+06\teval-rmse:1.84816e+06\n",
      "[131]\tdtrain-rmse:1.85388e+06\teval-rmse:1.84796e+06\n",
      "[132]\tdtrain-rmse:1.85371e+06\teval-rmse:1.84776e+06\n",
      "[133]\tdtrain-rmse:1.85357e+06\teval-rmse:1.84766e+06\n",
      "[134]\tdtrain-rmse:1.8534e+06\teval-rmse:1.84756e+06\n",
      "[135]\tdtrain-rmse:1.85319e+06\teval-rmse:1.84747e+06\n",
      "[136]\tdtrain-rmse:1.85293e+06\teval-rmse:1.84722e+06\n",
      "[137]\tdtrain-rmse:1.85263e+06\teval-rmse:1.84683e+06\n",
      "[138]\tdtrain-rmse:1.85247e+06\teval-rmse:1.84678e+06\n",
      "[139]\tdtrain-rmse:1.85215e+06\teval-rmse:1.84654e+06\n",
      "[140]\tdtrain-rmse:1.85146e+06\teval-rmse:1.84565e+06\n",
      "[141]\tdtrain-rmse:1.85135e+06\teval-rmse:1.84554e+06\n",
      "[142]\tdtrain-rmse:1.85108e+06\teval-rmse:1.84537e+06\n",
      "[143]\tdtrain-rmse:1.85103e+06\teval-rmse:1.84516e+06\n",
      "[144]\tdtrain-rmse:1.85096e+06\teval-rmse:1.84509e+06\n",
      "[145]\tdtrain-rmse:1.85086e+06\teval-rmse:1.84498e+06\n",
      "[146]\tdtrain-rmse:1.85033e+06\teval-rmse:1.84391e+06\n",
      "[147]\tdtrain-rmse:1.84986e+06\teval-rmse:1.84354e+06\n",
      "[148]\tdtrain-rmse:1.8496e+06\teval-rmse:1.84332e+06\n",
      "[149]\tdtrain-rmse:1.8495e+06\teval-rmse:1.84321e+06\n",
      "[150]\tdtrain-rmse:1.84899e+06\teval-rmse:1.84286e+06\n",
      "[151]\tdtrain-rmse:1.84865e+06\teval-rmse:1.84257e+06\n",
      "[152]\tdtrain-rmse:1.84687e+06\teval-rmse:1.84046e+06\n",
      "[153]\tdtrain-rmse:1.84646e+06\teval-rmse:1.84003e+06\n",
      "[154]\tdtrain-rmse:1.84626e+06\teval-rmse:1.83981e+06\n",
      "[155]\tdtrain-rmse:1.84608e+06\teval-rmse:1.83955e+06\n",
      "[156]\tdtrain-rmse:1.84547e+06\teval-rmse:1.83894e+06\n",
      "[157]\tdtrain-rmse:1.84526e+06\teval-rmse:1.83878e+06\n",
      "[158]\tdtrain-rmse:1.84475e+06\teval-rmse:1.83791e+06\n",
      "[159]\tdtrain-rmse:1.84348e+06\teval-rmse:1.83713e+06\n",
      "[160]\tdtrain-rmse:1.8422e+06\teval-rmse:1.8353e+06\n",
      "[161]\tdtrain-rmse:1.84195e+06\teval-rmse:1.83512e+06\n",
      "[162]\tdtrain-rmse:1.84177e+06\teval-rmse:1.83488e+06\n",
      "[163]\tdtrain-rmse:1.84154e+06\teval-rmse:1.83467e+06\n",
      "[164]\tdtrain-rmse:1.8414e+06\teval-rmse:1.83456e+06\n",
      "[165]\tdtrain-rmse:1.83984e+06\teval-rmse:1.83280e+06\n",
      "[166]\tdtrain-rmse:1.83968e+06\teval-rmse:1.83257e+06\n",
      "[167]\tdtrain-rmse:1.83871e+06\teval-rmse:1.83193e+06\n",
      "[168]\tdtrain-rmse:1.83843e+06\teval-rmse:1.83164e+06\n",
      "[169]\tdtrain-rmse:1.83787e+06\teval-rmse:1.83123e+06\n",
      "[170]\tdtrain-rmse:1.83755e+06\teval-rmse:1.83091e+06\n",
      "[171]\tdtrain-rmse:1.83733e+06\teval-rmse:1.83066e+06\n",
      "[172]\tdtrain-rmse:1.83639e+06\teval-rmse:1.82894e+06\n",
      "[173]\tdtrain-rmse:1.83625e+06\teval-rmse:1.82872e+06\n",
      "[174]\tdtrain-rmse:1.83612e+06\teval-rmse:1.82854e+06\n",
      "[175]\tdtrain-rmse:1.83599e+06\teval-rmse:1.82842e+06\n",
      "[176]\tdtrain-rmse:1.8359e+06\teval-rmse:1.82835e+06\n",
      "[177]\tdtrain-rmse:1.83532e+06\teval-rmse:1.82782e+06\n",
      "[178]\tdtrain-rmse:1.83524e+06\teval-rmse:1.8277e+06\n",
      "[179]\tdtrain-rmse:1.83514e+06\teval-rmse:1.82764e+06\n",
      "[180]\tdtrain-rmse:1.83486e+06\teval-rmse:1.82752e+06\n",
      "[181]\tdtrain-rmse:1.83396e+06\teval-rmse:1.82606e+06\n",
      "[182]\tdtrain-rmse:1.83344e+06\teval-rmse:1.82541e+06\n",
      "[183]\tdtrain-rmse:1.83321e+06\teval-rmse:1.82503e+06\n",
      "[184]\tdtrain-rmse:1.83309e+06\teval-rmse:1.8249e+06\n",
      "[185]\tdtrain-rmse:1.83284e+06\teval-rmse:1.82482e+06\n",
      "[186]\tdtrain-rmse:1.83222e+06\teval-rmse:1.8242e+06\n",
      "[187]\tdtrain-rmse:1.83211e+06\teval-rmse:1.82409e+06\n",
      "[188]\tdtrain-rmse:1.83162e+06\teval-rmse:1.82357e+06\n",
      "[189]\tdtrain-rmse:1.8314e+06\teval-rmse:1.82325e+06\n",
      "[190]\tdtrain-rmse:1.8309e+06\teval-rmse:1.82266e+06\n",
      "[191]\tdtrain-rmse:1.83072e+06\teval-rmse:1.82246e+06\n",
      "[192]\tdtrain-rmse:1.83057e+06\teval-rmse:1.8224e+06\n",
      "[193]\tdtrain-rmse:1.83048e+06\teval-rmse:1.82236e+06\n",
      "[194]\tdtrain-rmse:1.83036e+06\teval-rmse:1.82224e+06\n",
      "[195]\tdtrain-rmse:1.83032e+06\teval-rmse:1.8222e+06\n",
      "[196]\tdtrain-rmse:1.83017e+06\teval-rmse:1.82209e+06\n",
      "[197]\tdtrain-rmse:1.82998e+06\teval-rmse:1.82205e+06\n",
      "[198]\tdtrain-rmse:1.82944e+06\teval-rmse:1.82149e+06\n",
      "[199]\tdtrain-rmse:1.82935e+06\teval-rmse:1.82136e+06\n"
     ]
    }
   ],
   "source": [
    "ypred = run_xgboost(train_X, train_Y, test_X)\n"
   ]
  },
  {
   "cell_type": "markdown",
   "metadata": {
    "collapsed": false
   },
   "source": [
    "### test.head()"
   ]
  },
  {
   "cell_type": "code",
   "execution_count": 89,
   "metadata": {
    "collapsed": false
   },
   "outputs": [],
   "source": [
    "ypred_pos = ypred.copy()\n",
    "ypred_pos[0] = ypred_pos[0].apply(lambda x: 0.0 if x<0 else x)"
   ]
  },
  {
   "cell_type": "code",
   "execution_count": 90,
   "metadata": {
    "collapsed": false
   },
   "outputs": [],
   "source": [
    "new_test_rew = test.copy()\n",
    "new_test_rew.shape\n",
    "ypred.shape\n",
    "new_test_rew[\"volume\"] = ypred_pos[0].values"
   ]
  },
  {
   "cell_type": "code",
   "execution_count": 91,
   "metadata": {
    "collapsed": false
   },
   "outputs": [
    {
     "data": {
      "text/plain": [
       "202516"
      ]
     },
     "execution_count": 91,
     "metadata": {},
     "output_type": "execute_result"
    }
   ],
   "source": [
    "ypred[0].nunique()"
   ]
  },
  {
   "cell_type": "code",
   "execution_count": 92,
   "metadata": {
    "collapsed": false
   },
   "outputs": [
    {
     "data": {
      "text/plain": [
       "array([  78187.484375  ,   99500.6875    ,  120156.3359375 , ...,\n",
       "         67137.6015625 ,   19414.28125   ,   15884.38964844])"
      ]
     },
     "execution_count": 92,
     "metadata": {},
     "output_type": "execute_result"
    }
   ],
   "source": [
    "new_test_rew[\"volume\"].unique()"
   ]
  },
  {
   "cell_type": "code",
   "execution_count": 93,
   "metadata": {
    "collapsed": true
   },
   "outputs": [],
   "source": [
    "ftd_group_bond = list(new_test_rew.groupby(\"isin\"))"
   ]
  },
  {
   "cell_type": "code",
   "execution_count": 94,
   "metadata": {
    "collapsed": true
   },
   "outputs": [],
   "source": [
    "ftd_group_bond_side = list(ftd_group_bond[0][1].groupby(\"side\"))"
   ]
  },
  {
   "cell_type": "code",
   "execution_count": 95,
   "metadata": {
    "collapsed": false
   },
   "outputs": [
    {
     "data": {
      "text/plain": [
       "3     isin0\n",
       "4     isin0\n",
       "5     isin0\n",
       "9     isin0\n",
       "10    isin0\n",
       "11    isin0\n",
       "Name: isin, dtype: object"
      ]
     },
     "execution_count": 95,
     "metadata": {},
     "output_type": "execute_result"
    }
   ],
   "source": [
    "ftd_group_bond_side[1][1][\"isin\"]"
   ]
  },
  {
   "cell_type": "markdown",
   "metadata": {
    "collapsed": false
   },
   "source": [
    "## -------------------------------------------"
   ]
  },
  {
   "cell_type": "markdown",
   "metadata": {},
   "source": [
    "### The model predicts for each day and each timeofday for sell and buy differently. So, summing it up and making it into the required format."
   ]
  },
  {
   "cell_type": "code",
   "execution_count": 96,
   "metadata": {
    "collapsed": false
   },
   "outputs": [
    {
     "data": {
      "text/plain": [
       "17261"
      ]
     },
     "execution_count": 96,
     "metadata": {},
     "output_type": "execute_result"
    }
   ],
   "source": [
    "new_test_rew.shape\n",
    "len(ftd_group_bond)"
   ]
  },
  {
   "cell_type": "code",
   "execution_count": 97,
   "metadata": {
    "collapsed": false
   },
   "outputs": [],
   "source": [
    "test_qwerty = pd.DataFrame(index = np.arange(17261))"
   ]
  },
  {
   "cell_type": "code",
   "execution_count": 98,
   "metadata": {
    "collapsed": true
   },
   "outputs": [],
   "source": [
    "col1 = []\n",
    "col2 = []\n",
    "col3 = []"
   ]
  },
  {
   "cell_type": "code",
   "execution_count": 99,
   "metadata": {
    "collapsed": false
   },
   "outputs": [],
   "source": [
    "for i in range(17261):\n",
    "    bond_num = ftd_group_bond[i][0]\n",
    "    ftd_group_bond_side = list(ftd_group_bond[i][1].groupby(\"side\"))\n",
    "    t_buy = ftd_group_bond_side[0][1] #Buy\n",
    "    t_sell = ftd_group_bond_side[1][1] #Sell\n",
    "    buy_vol = t_buy[\"volume\"].sum()\n",
    "    sell_vol = t_sell[\"volume\"].sum()\n",
    "    col1.append(bond_num)\n",
    "    col2.append(buy_vol)\n",
    "    col3.append(sell_vol)"
   ]
  },
  {
   "cell_type": "code",
   "execution_count": 100,
   "metadata": {
    "collapsed": false
   },
   "outputs": [
    {
     "data": {
      "text/plain": [
       "17261"
      ]
     },
     "execution_count": 100,
     "metadata": {},
     "output_type": "execute_result"
    }
   ],
   "source": [
    "len(col3)"
   ]
  },
  {
   "cell_type": "code",
   "execution_count": 101,
   "metadata": {
    "collapsed": false
   },
   "outputs": [],
   "source": [
    "test_qwerty[\"isin\"] = col1\n",
    "test_qwerty[\"buyvolume\"] = col2\n",
    "test_qwerty[\"sellvolume\"] = col3"
   ]
  },
  {
   "cell_type": "code",
   "execution_count": 102,
   "metadata": {
    "collapsed": false
   },
   "outputs": [
    {
     "data": {
      "text/html": [
       "<div>\n",
       "<table border=\"1\" class=\"dataframe\">\n",
       "  <thead>\n",
       "    <tr style=\"text-align: right;\">\n",
       "      <th></th>\n",
       "      <th>isin</th>\n",
       "      <th>buyvolume</th>\n",
       "      <th>sellvolume</th>\n",
       "    </tr>\n",
       "  </thead>\n",
       "  <tbody>\n",
       "    <tr>\n",
       "      <th>0</th>\n",
       "      <td>isin0</td>\n",
       "      <td>537858.769531</td>\n",
       "      <td>5.610202e+05</td>\n",
       "    </tr>\n",
       "    <tr>\n",
       "      <th>1</th>\n",
       "      <td>isin1</td>\n",
       "      <td>924086.744141</td>\n",
       "      <td>1.132882e+06</td>\n",
       "    </tr>\n",
       "    <tr>\n",
       "      <th>2</th>\n",
       "      <td>isin10</td>\n",
       "      <td>187615.764648</td>\n",
       "      <td>1.787654e+05</td>\n",
       "    </tr>\n",
       "    <tr>\n",
       "      <th>3</th>\n",
       "      <td>isin100</td>\n",
       "      <td>174825.561523</td>\n",
       "      <td>1.708702e+05</td>\n",
       "    </tr>\n",
       "    <tr>\n",
       "      <th>4</th>\n",
       "      <td>isin1000</td>\n",
       "      <td>105074.780273</td>\n",
       "      <td>9.663609e+04</td>\n",
       "    </tr>\n",
       "  </tbody>\n",
       "</table>\n",
       "</div>"
      ],
      "text/plain": [
       "       isin      buyvolume    sellvolume\n",
       "0     isin0  537858.769531  5.610202e+05\n",
       "1     isin1  924086.744141  1.132882e+06\n",
       "2    isin10  187615.764648  1.787654e+05\n",
       "3   isin100  174825.561523  1.708702e+05\n",
       "4  isin1000  105074.780273  9.663609e+04"
      ]
     },
     "execution_count": 102,
     "metadata": {},
     "output_type": "execute_result"
    }
   ],
   "source": [
    "test_qwerty.head()"
   ]
  },
  {
   "cell_type": "code",
   "execution_count": 103,
   "metadata": {
    "collapsed": false
   },
   "outputs": [
    {
     "data": {
      "text/plain": [
       "array([ 537858.76953125,  924086.74414062,  187615.76464844, ...,\n",
       "        134822.0447998 ,  182625.96582031,  143891.30126953])"
      ]
     },
     "execution_count": 103,
     "metadata": {},
     "output_type": "execute_result"
    }
   ],
   "source": [
    "test_qwerty[\"buyvolume\"].unique()"
   ]
  },
  {
   "cell_type": "code",
   "execution_count": 104,
   "metadata": {
    "collapsed": true
   },
   "outputs": [],
   "source": [
    "test_qwerty.to_csv(\"SOL_MAIN_TRY_LION.csv\", index = False)"
   ]
  },
  {
   "cell_type": "code",
   "execution_count": 105,
   "metadata": {
    "collapsed": false
   },
   "outputs": [
    {
     "data": {
      "text/plain": [
       "202516"
      ]
     },
     "execution_count": 105,
     "metadata": {},
     "output_type": "execute_result"
    }
   ],
   "source": [
    "ypred[0].nunique()"
   ]
  },
  {
   "cell_type": "code",
   "execution_count": null,
   "metadata": {
    "collapsed": true
   },
   "outputs": [],
   "source": []
  }
 ],
 "metadata": {
  "kernelspec": {
   "display_name": "Python 3",
   "language": "python",
   "name": "python3"
  },
  "language_info": {
   "codemirror_mode": {
    "name": "ipython",
    "version": 3
   },
   "file_extension": ".py",
   "mimetype": "text/x-python",
   "name": "python",
   "nbconvert_exporter": "python",
   "pygments_lexer": "ipython3",
   "version": "3.5.2"
  }
 },
 "nbformat": 4,
 "nbformat_minor": 1
}
